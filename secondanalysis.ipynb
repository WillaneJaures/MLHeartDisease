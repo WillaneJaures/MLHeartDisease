{
 "cells": [
  {
   "cell_type": "code",
   "execution_count": 1,
   "id": "268eac70",
   "metadata": {
    "_cell_guid": "b1076dfc-b9ad-4769-8c92-a6c4dae69d19",
    "_uuid": "8f2839f25d086af736a60e9eeb907d3b93b6e0e5",
    "execution": {
     "iopub.execute_input": "2024-03-17T11:21:49.920605Z",
     "iopub.status.busy": "2024-03-17T11:21:49.920063Z",
     "iopub.status.idle": "2024-03-17T11:21:50.876527Z",
     "shell.execute_reply": "2024-03-17T11:21:50.875360Z"
    },
    "papermill": {
     "duration": 0.976022,
     "end_time": "2024-03-17T11:21:50.879019",
     "exception": false,
     "start_time": "2024-03-17T11:21:49.902997",
     "status": "completed"
    },
    "tags": []
   },
   "outputs": [
    {
     "name": "stdout",
     "output_type": "stream",
     "text": [
      "/kaggle/input/heartdisease/heart.csv\n",
      "/kaggle/input/heart-attack-analysis-prediction-dataset/o2Saturation.csv\n",
      "/kaggle/input/heart-attack-analysis-prediction-dataset/heart.csv\n"
     ]
    }
   ],
   "source": [
    "# This Python 3 environment comes with many helpful analytics libraries installed\n",
    "# It is defined by the kaggle/python Docker image: https://github.com/kaggle/docker-python\n",
    "# For example, here's several helpful packages to load\n",
    "\n",
    "import numpy as np # linear algebra\n",
    "import pandas as pd # data processing, CSV file I/O (e.g. pd.read_csv)\n",
    "\n",
    "# Input data files are available in the read-only \"../input/\" directory\n",
    "# For example, running this (by clicking run or pressing Shift+Enter) will list all files under the input directory\n",
    "\n",
    "import os\n",
    "for dirname, _, filenames in os.walk('/kaggle/input'):\n",
    "    for filename in filenames:\n",
    "        print(os.path.join(dirname, filename))\n",
    "\n",
    "# You can write up to 20GB to the current directory (/kaggle/working/) that gets preserved as output when you create a version using \"Save & Run All\" \n",
    "# You can also write temporary files to /kaggle/temp/, but they won't be saved outside of the current session"
   ]
  },
  {
   "cell_type": "code",
   "execution_count": 2,
   "id": "7e6b563b",
   "metadata": {
    "execution": {
     "iopub.execute_input": "2024-03-17T11:21:50.913844Z",
     "iopub.status.busy": "2024-03-17T11:21:50.913029Z",
     "iopub.status.idle": "2024-03-17T11:21:52.826896Z",
     "shell.execute_reply": "2024-03-17T11:21:52.825612Z"
    },
    "papermill": {
     "duration": 1.933896,
     "end_time": "2024-03-17T11:21:52.829995",
     "exception": false,
     "start_time": "2024-03-17T11:21:50.896099",
     "status": "completed"
    },
    "tags": []
   },
   "outputs": [],
   "source": [
    "import pandas as pd\n",
    "pd.set_option('display.max_columns', 500)\n",
    "import numpy as np\n",
    "import matplotlib.pyplot as plt\n",
    "import seaborn as sns\n",
    "from sklearn.compose import make_column_transformer\n",
    "from sklearn.pipeline import make_pipeline\n",
    "from sklearn.preprocessing import RobustScaler, OneHotEncoder\n",
    "from sklearn.model_selection import train_test_split \n",
    "from sklearn.linear_model import LogisticRegression\n",
    "import warnings\n",
    "warnings.filterwarnings('ignore')\n"
   ]
  },
  {
   "cell_type": "code",
   "execution_count": 3,
   "id": "7ed0347e",
   "metadata": {
    "execution": {
     "iopub.execute_input": "2024-03-17T11:21:52.863289Z",
     "iopub.status.busy": "2024-03-17T11:21:52.862583Z",
     "iopub.status.idle": "2024-03-17T11:21:52.906697Z",
     "shell.execute_reply": "2024-03-17T11:21:52.905607Z"
    },
    "papermill": {
     "duration": 0.063697,
     "end_time": "2024-03-17T11:21:52.909294",
     "exception": false,
     "start_time": "2024-03-17T11:21:52.845597",
     "status": "completed"
    },
    "tags": []
   },
   "outputs": [
    {
     "data": {
      "text/html": [
       "<div>\n",
       "<style scoped>\n",
       "    .dataframe tbody tr th:only-of-type {\n",
       "        vertical-align: middle;\n",
       "    }\n",
       "\n",
       "    .dataframe tbody tr th {\n",
       "        vertical-align: top;\n",
       "    }\n",
       "\n",
       "    .dataframe thead th {\n",
       "        text-align: right;\n",
       "    }\n",
       "</style>\n",
       "<table border=\"1\" class=\"dataframe\">\n",
       "  <thead>\n",
       "    <tr style=\"text-align: right;\">\n",
       "      <th></th>\n",
       "      <th>age</th>\n",
       "      <th>sex</th>\n",
       "      <th>cp</th>\n",
       "      <th>trtbps</th>\n",
       "      <th>chol</th>\n",
       "      <th>fbs</th>\n",
       "      <th>restecg</th>\n",
       "      <th>thalachh</th>\n",
       "      <th>exng</th>\n",
       "      <th>oldpeak</th>\n",
       "      <th>slp</th>\n",
       "      <th>caa</th>\n",
       "      <th>thall</th>\n",
       "      <th>output</th>\n",
       "    </tr>\n",
       "  </thead>\n",
       "  <tbody>\n",
       "    <tr>\n",
       "      <th>0</th>\n",
       "      <td>63</td>\n",
       "      <td>1</td>\n",
       "      <td>3</td>\n",
       "      <td>145</td>\n",
       "      <td>233</td>\n",
       "      <td>1</td>\n",
       "      <td>0</td>\n",
       "      <td>150</td>\n",
       "      <td>0</td>\n",
       "      <td>2.3</td>\n",
       "      <td>0</td>\n",
       "      <td>0</td>\n",
       "      <td>1</td>\n",
       "      <td>1</td>\n",
       "    </tr>\n",
       "    <tr>\n",
       "      <th>1</th>\n",
       "      <td>37</td>\n",
       "      <td>1</td>\n",
       "      <td>2</td>\n",
       "      <td>130</td>\n",
       "      <td>250</td>\n",
       "      <td>0</td>\n",
       "      <td>1</td>\n",
       "      <td>187</td>\n",
       "      <td>0</td>\n",
       "      <td>3.5</td>\n",
       "      <td>0</td>\n",
       "      <td>0</td>\n",
       "      <td>2</td>\n",
       "      <td>1</td>\n",
       "    </tr>\n",
       "    <tr>\n",
       "      <th>2</th>\n",
       "      <td>41</td>\n",
       "      <td>0</td>\n",
       "      <td>1</td>\n",
       "      <td>130</td>\n",
       "      <td>204</td>\n",
       "      <td>0</td>\n",
       "      <td>0</td>\n",
       "      <td>172</td>\n",
       "      <td>0</td>\n",
       "      <td>1.4</td>\n",
       "      <td>2</td>\n",
       "      <td>0</td>\n",
       "      <td>2</td>\n",
       "      <td>1</td>\n",
       "    </tr>\n",
       "    <tr>\n",
       "      <th>3</th>\n",
       "      <td>56</td>\n",
       "      <td>1</td>\n",
       "      <td>1</td>\n",
       "      <td>120</td>\n",
       "      <td>236</td>\n",
       "      <td>0</td>\n",
       "      <td>1</td>\n",
       "      <td>178</td>\n",
       "      <td>0</td>\n",
       "      <td>0.8</td>\n",
       "      <td>2</td>\n",
       "      <td>0</td>\n",
       "      <td>2</td>\n",
       "      <td>1</td>\n",
       "    </tr>\n",
       "    <tr>\n",
       "      <th>4</th>\n",
       "      <td>57</td>\n",
       "      <td>0</td>\n",
       "      <td>0</td>\n",
       "      <td>120</td>\n",
       "      <td>354</td>\n",
       "      <td>0</td>\n",
       "      <td>1</td>\n",
       "      <td>163</td>\n",
       "      <td>1</td>\n",
       "      <td>0.6</td>\n",
       "      <td>2</td>\n",
       "      <td>0</td>\n",
       "      <td>2</td>\n",
       "      <td>1</td>\n",
       "    </tr>\n",
       "    <tr>\n",
       "      <th>5</th>\n",
       "      <td>57</td>\n",
       "      <td>1</td>\n",
       "      <td>0</td>\n",
       "      <td>140</td>\n",
       "      <td>192</td>\n",
       "      <td>0</td>\n",
       "      <td>1</td>\n",
       "      <td>148</td>\n",
       "      <td>0</td>\n",
       "      <td>0.4</td>\n",
       "      <td>1</td>\n",
       "      <td>0</td>\n",
       "      <td>1</td>\n",
       "      <td>1</td>\n",
       "    </tr>\n",
       "    <tr>\n",
       "      <th>6</th>\n",
       "      <td>56</td>\n",
       "      <td>0</td>\n",
       "      <td>1</td>\n",
       "      <td>140</td>\n",
       "      <td>294</td>\n",
       "      <td>0</td>\n",
       "      <td>0</td>\n",
       "      <td>153</td>\n",
       "      <td>0</td>\n",
       "      <td>1.3</td>\n",
       "      <td>1</td>\n",
       "      <td>0</td>\n",
       "      <td>2</td>\n",
       "      <td>1</td>\n",
       "    </tr>\n",
       "    <tr>\n",
       "      <th>7</th>\n",
       "      <td>44</td>\n",
       "      <td>1</td>\n",
       "      <td>1</td>\n",
       "      <td>120</td>\n",
       "      <td>263</td>\n",
       "      <td>0</td>\n",
       "      <td>1</td>\n",
       "      <td>173</td>\n",
       "      <td>0</td>\n",
       "      <td>0.0</td>\n",
       "      <td>2</td>\n",
       "      <td>0</td>\n",
       "      <td>3</td>\n",
       "      <td>1</td>\n",
       "    </tr>\n",
       "    <tr>\n",
       "      <th>8</th>\n",
       "      <td>52</td>\n",
       "      <td>1</td>\n",
       "      <td>2</td>\n",
       "      <td>172</td>\n",
       "      <td>199</td>\n",
       "      <td>1</td>\n",
       "      <td>1</td>\n",
       "      <td>162</td>\n",
       "      <td>0</td>\n",
       "      <td>0.5</td>\n",
       "      <td>2</td>\n",
       "      <td>0</td>\n",
       "      <td>3</td>\n",
       "      <td>1</td>\n",
       "    </tr>\n",
       "    <tr>\n",
       "      <th>9</th>\n",
       "      <td>57</td>\n",
       "      <td>1</td>\n",
       "      <td>2</td>\n",
       "      <td>150</td>\n",
       "      <td>168</td>\n",
       "      <td>0</td>\n",
       "      <td>1</td>\n",
       "      <td>174</td>\n",
       "      <td>0</td>\n",
       "      <td>1.6</td>\n",
       "      <td>2</td>\n",
       "      <td>0</td>\n",
       "      <td>2</td>\n",
       "      <td>1</td>\n",
       "    </tr>\n",
       "    <tr>\n",
       "      <th>10</th>\n",
       "      <td>54</td>\n",
       "      <td>1</td>\n",
       "      <td>0</td>\n",
       "      <td>140</td>\n",
       "      <td>239</td>\n",
       "      <td>0</td>\n",
       "      <td>1</td>\n",
       "      <td>160</td>\n",
       "      <td>0</td>\n",
       "      <td>1.2</td>\n",
       "      <td>2</td>\n",
       "      <td>0</td>\n",
       "      <td>2</td>\n",
       "      <td>1</td>\n",
       "    </tr>\n",
       "    <tr>\n",
       "      <th>11</th>\n",
       "      <td>48</td>\n",
       "      <td>0</td>\n",
       "      <td>2</td>\n",
       "      <td>130</td>\n",
       "      <td>275</td>\n",
       "      <td>0</td>\n",
       "      <td>1</td>\n",
       "      <td>139</td>\n",
       "      <td>0</td>\n",
       "      <td>0.2</td>\n",
       "      <td>2</td>\n",
       "      <td>0</td>\n",
       "      <td>2</td>\n",
       "      <td>1</td>\n",
       "    </tr>\n",
       "    <tr>\n",
       "      <th>12</th>\n",
       "      <td>49</td>\n",
       "      <td>1</td>\n",
       "      <td>1</td>\n",
       "      <td>130</td>\n",
       "      <td>266</td>\n",
       "      <td>0</td>\n",
       "      <td>1</td>\n",
       "      <td>171</td>\n",
       "      <td>0</td>\n",
       "      <td>0.6</td>\n",
       "      <td>2</td>\n",
       "      <td>0</td>\n",
       "      <td>2</td>\n",
       "      <td>1</td>\n",
       "    </tr>\n",
       "    <tr>\n",
       "      <th>13</th>\n",
       "      <td>64</td>\n",
       "      <td>1</td>\n",
       "      <td>3</td>\n",
       "      <td>110</td>\n",
       "      <td>211</td>\n",
       "      <td>0</td>\n",
       "      <td>0</td>\n",
       "      <td>144</td>\n",
       "      <td>1</td>\n",
       "      <td>1.8</td>\n",
       "      <td>1</td>\n",
       "      <td>0</td>\n",
       "      <td>2</td>\n",
       "      <td>1</td>\n",
       "    </tr>\n",
       "    <tr>\n",
       "      <th>14</th>\n",
       "      <td>58</td>\n",
       "      <td>0</td>\n",
       "      <td>3</td>\n",
       "      <td>150</td>\n",
       "      <td>283</td>\n",
       "      <td>1</td>\n",
       "      <td>0</td>\n",
       "      <td>162</td>\n",
       "      <td>0</td>\n",
       "      <td>1.0</td>\n",
       "      <td>2</td>\n",
       "      <td>0</td>\n",
       "      <td>2</td>\n",
       "      <td>1</td>\n",
       "    </tr>\n",
       "    <tr>\n",
       "      <th>15</th>\n",
       "      <td>50</td>\n",
       "      <td>0</td>\n",
       "      <td>2</td>\n",
       "      <td>120</td>\n",
       "      <td>219</td>\n",
       "      <td>0</td>\n",
       "      <td>1</td>\n",
       "      <td>158</td>\n",
       "      <td>0</td>\n",
       "      <td>1.6</td>\n",
       "      <td>1</td>\n",
       "      <td>0</td>\n",
       "      <td>2</td>\n",
       "      <td>1</td>\n",
       "    </tr>\n",
       "    <tr>\n",
       "      <th>16</th>\n",
       "      <td>58</td>\n",
       "      <td>0</td>\n",
       "      <td>2</td>\n",
       "      <td>120</td>\n",
       "      <td>340</td>\n",
       "      <td>0</td>\n",
       "      <td>1</td>\n",
       "      <td>172</td>\n",
       "      <td>0</td>\n",
       "      <td>0.0</td>\n",
       "      <td>2</td>\n",
       "      <td>0</td>\n",
       "      <td>2</td>\n",
       "      <td>1</td>\n",
       "    </tr>\n",
       "    <tr>\n",
       "      <th>17</th>\n",
       "      <td>66</td>\n",
       "      <td>0</td>\n",
       "      <td>3</td>\n",
       "      <td>150</td>\n",
       "      <td>226</td>\n",
       "      <td>0</td>\n",
       "      <td>1</td>\n",
       "      <td>114</td>\n",
       "      <td>0</td>\n",
       "      <td>2.6</td>\n",
       "      <td>0</td>\n",
       "      <td>0</td>\n",
       "      <td>2</td>\n",
       "      <td>1</td>\n",
       "    </tr>\n",
       "    <tr>\n",
       "      <th>18</th>\n",
       "      <td>43</td>\n",
       "      <td>1</td>\n",
       "      <td>0</td>\n",
       "      <td>150</td>\n",
       "      <td>247</td>\n",
       "      <td>0</td>\n",
       "      <td>1</td>\n",
       "      <td>171</td>\n",
       "      <td>0</td>\n",
       "      <td>1.5</td>\n",
       "      <td>2</td>\n",
       "      <td>0</td>\n",
       "      <td>2</td>\n",
       "      <td>1</td>\n",
       "    </tr>\n",
       "    <tr>\n",
       "      <th>19</th>\n",
       "      <td>69</td>\n",
       "      <td>0</td>\n",
       "      <td>3</td>\n",
       "      <td>140</td>\n",
       "      <td>239</td>\n",
       "      <td>0</td>\n",
       "      <td>1</td>\n",
       "      <td>151</td>\n",
       "      <td>0</td>\n",
       "      <td>1.8</td>\n",
       "      <td>2</td>\n",
       "      <td>2</td>\n",
       "      <td>2</td>\n",
       "      <td>1</td>\n",
       "    </tr>\n",
       "  </tbody>\n",
       "</table>\n",
       "</div>"
      ],
      "text/plain": [
       "    age  sex  cp  trtbps  chol  fbs  restecg  thalachh  exng  oldpeak  slp  \\\n",
       "0    63    1   3     145   233    1        0       150     0      2.3    0   \n",
       "1    37    1   2     130   250    0        1       187     0      3.5    0   \n",
       "2    41    0   1     130   204    0        0       172     0      1.4    2   \n",
       "3    56    1   1     120   236    0        1       178     0      0.8    2   \n",
       "4    57    0   0     120   354    0        1       163     1      0.6    2   \n",
       "5    57    1   0     140   192    0        1       148     0      0.4    1   \n",
       "6    56    0   1     140   294    0        0       153     0      1.3    1   \n",
       "7    44    1   1     120   263    0        1       173     0      0.0    2   \n",
       "8    52    1   2     172   199    1        1       162     0      0.5    2   \n",
       "9    57    1   2     150   168    0        1       174     0      1.6    2   \n",
       "10   54    1   0     140   239    0        1       160     0      1.2    2   \n",
       "11   48    0   2     130   275    0        1       139     0      0.2    2   \n",
       "12   49    1   1     130   266    0        1       171     0      0.6    2   \n",
       "13   64    1   3     110   211    0        0       144     1      1.8    1   \n",
       "14   58    0   3     150   283    1        0       162     0      1.0    2   \n",
       "15   50    0   2     120   219    0        1       158     0      1.6    1   \n",
       "16   58    0   2     120   340    0        1       172     0      0.0    2   \n",
       "17   66    0   3     150   226    0        1       114     0      2.6    0   \n",
       "18   43    1   0     150   247    0        1       171     0      1.5    2   \n",
       "19   69    0   3     140   239    0        1       151     0      1.8    2   \n",
       "\n",
       "    caa  thall  output  \n",
       "0     0      1       1  \n",
       "1     0      2       1  \n",
       "2     0      2       1  \n",
       "3     0      2       1  \n",
       "4     0      2       1  \n",
       "5     0      1       1  \n",
       "6     0      2       1  \n",
       "7     0      3       1  \n",
       "8     0      3       1  \n",
       "9     0      2       1  \n",
       "10    0      2       1  \n",
       "11    0      2       1  \n",
       "12    0      2       1  \n",
       "13    0      2       1  \n",
       "14    0      2       1  \n",
       "15    0      2       1  \n",
       "16    0      2       1  \n",
       "17    0      2       1  \n",
       "18    0      2       1  \n",
       "19    2      2       1  "
      ]
     },
     "execution_count": 3,
     "metadata": {},
     "output_type": "execute_result"
    }
   ],
   "source": [
    "df = pd.read_csv('/kaggle/input/heartdisease/heart.csv')\n",
    "df.head(20)\n",
    "\n",
    "\n"
   ]
  },
  {
   "cell_type": "code",
   "execution_count": 4,
   "id": "0e0639c6",
   "metadata": {
    "execution": {
     "iopub.execute_input": "2024-03-17T11:21:52.947013Z",
     "iopub.status.busy": "2024-03-17T11:21:52.946556Z",
     "iopub.status.idle": "2024-03-17T11:21:52.975488Z",
     "shell.execute_reply": "2024-03-17T11:21:52.974550Z"
    },
    "papermill": {
     "duration": 0.050337,
     "end_time": "2024-03-17T11:21:52.977988",
     "exception": false,
     "start_time": "2024-03-17T11:21:52.927651",
     "status": "completed"
    },
    "tags": []
   },
   "outputs": [
    {
     "name": "stdout",
     "output_type": "stream",
     "text": [
      "<class 'pandas.core.frame.DataFrame'>\n",
      "RangeIndex: 303 entries, 0 to 302\n",
      "Data columns (total 14 columns):\n",
      " #   Column    Non-Null Count  Dtype  \n",
      "---  ------    --------------  -----  \n",
      " 0   age       303 non-null    int64  \n",
      " 1   sex       303 non-null    int64  \n",
      " 2   cp        303 non-null    int64  \n",
      " 3   trtbps    303 non-null    int64  \n",
      " 4   chol      303 non-null    int64  \n",
      " 5   fbs       303 non-null    int64  \n",
      " 6   restecg   303 non-null    int64  \n",
      " 7   thalachh  303 non-null    int64  \n",
      " 8   exng      303 non-null    int64  \n",
      " 9   oldpeak   303 non-null    float64\n",
      " 10  slp       303 non-null    int64  \n",
      " 11  caa       303 non-null    int64  \n",
      " 12  thall     303 non-null    int64  \n",
      " 13  output    303 non-null    int64  \n",
      "dtypes: float64(1), int64(13)\n",
      "memory usage: 33.3 KB\n"
     ]
    }
   ],
   "source": [
    "#df.shape\n",
    "df.info()"
   ]
  },
  {
   "cell_type": "code",
   "execution_count": 5,
   "id": "b1d5fece",
   "metadata": {
    "execution": {
     "iopub.execute_input": "2024-03-17T11:21:53.013437Z",
     "iopub.status.busy": "2024-03-17T11:21:53.012347Z",
     "iopub.status.idle": "2024-03-17T11:21:53.061741Z",
     "shell.execute_reply": "2024-03-17T11:21:53.060636Z"
    },
    "papermill": {
     "duration": 0.069394,
     "end_time": "2024-03-17T11:21:53.064093",
     "exception": false,
     "start_time": "2024-03-17T11:21:52.994699",
     "status": "completed"
    },
    "tags": []
   },
   "outputs": [
    {
     "data": {
      "text/html": [
       "<div>\n",
       "<style scoped>\n",
       "    .dataframe tbody tr th:only-of-type {\n",
       "        vertical-align: middle;\n",
       "    }\n",
       "\n",
       "    .dataframe tbody tr th {\n",
       "        vertical-align: top;\n",
       "    }\n",
       "\n",
       "    .dataframe thead th {\n",
       "        text-align: right;\n",
       "    }\n",
       "</style>\n",
       "<table border=\"1\" class=\"dataframe\">\n",
       "  <thead>\n",
       "    <tr style=\"text-align: right;\">\n",
       "      <th></th>\n",
       "      <th>age</th>\n",
       "      <th>sex</th>\n",
       "      <th>cp</th>\n",
       "      <th>trtbps</th>\n",
       "      <th>chol</th>\n",
       "      <th>fbs</th>\n",
       "      <th>restecg</th>\n",
       "      <th>thalachh</th>\n",
       "      <th>exng</th>\n",
       "      <th>oldpeak</th>\n",
       "      <th>slp</th>\n",
       "      <th>caa</th>\n",
       "      <th>thall</th>\n",
       "      <th>output</th>\n",
       "    </tr>\n",
       "  </thead>\n",
       "  <tbody>\n",
       "    <tr>\n",
       "      <th>count</th>\n",
       "      <td>303.000000</td>\n",
       "      <td>303.000000</td>\n",
       "      <td>303.000000</td>\n",
       "      <td>303.000000</td>\n",
       "      <td>303.000000</td>\n",
       "      <td>303.000000</td>\n",
       "      <td>303.000000</td>\n",
       "      <td>303.000000</td>\n",
       "      <td>303.000000</td>\n",
       "      <td>303.000000</td>\n",
       "      <td>303.000000</td>\n",
       "      <td>303.000000</td>\n",
       "      <td>303.000000</td>\n",
       "      <td>303.000000</td>\n",
       "    </tr>\n",
       "    <tr>\n",
       "      <th>mean</th>\n",
       "      <td>54.366337</td>\n",
       "      <td>0.683168</td>\n",
       "      <td>0.966997</td>\n",
       "      <td>131.623762</td>\n",
       "      <td>246.264026</td>\n",
       "      <td>0.148515</td>\n",
       "      <td>0.528053</td>\n",
       "      <td>149.646865</td>\n",
       "      <td>0.326733</td>\n",
       "      <td>1.039604</td>\n",
       "      <td>1.399340</td>\n",
       "      <td>0.729373</td>\n",
       "      <td>2.313531</td>\n",
       "      <td>0.544554</td>\n",
       "    </tr>\n",
       "    <tr>\n",
       "      <th>std</th>\n",
       "      <td>9.082101</td>\n",
       "      <td>0.466011</td>\n",
       "      <td>1.032052</td>\n",
       "      <td>17.538143</td>\n",
       "      <td>51.830751</td>\n",
       "      <td>0.356198</td>\n",
       "      <td>0.525860</td>\n",
       "      <td>22.905161</td>\n",
       "      <td>0.469794</td>\n",
       "      <td>1.161075</td>\n",
       "      <td>0.616226</td>\n",
       "      <td>1.022606</td>\n",
       "      <td>0.612277</td>\n",
       "      <td>0.498835</td>\n",
       "    </tr>\n",
       "    <tr>\n",
       "      <th>min</th>\n",
       "      <td>29.000000</td>\n",
       "      <td>0.000000</td>\n",
       "      <td>0.000000</td>\n",
       "      <td>94.000000</td>\n",
       "      <td>126.000000</td>\n",
       "      <td>0.000000</td>\n",
       "      <td>0.000000</td>\n",
       "      <td>71.000000</td>\n",
       "      <td>0.000000</td>\n",
       "      <td>0.000000</td>\n",
       "      <td>0.000000</td>\n",
       "      <td>0.000000</td>\n",
       "      <td>0.000000</td>\n",
       "      <td>0.000000</td>\n",
       "    </tr>\n",
       "    <tr>\n",
       "      <th>25%</th>\n",
       "      <td>47.500000</td>\n",
       "      <td>0.000000</td>\n",
       "      <td>0.000000</td>\n",
       "      <td>120.000000</td>\n",
       "      <td>211.000000</td>\n",
       "      <td>0.000000</td>\n",
       "      <td>0.000000</td>\n",
       "      <td>133.500000</td>\n",
       "      <td>0.000000</td>\n",
       "      <td>0.000000</td>\n",
       "      <td>1.000000</td>\n",
       "      <td>0.000000</td>\n",
       "      <td>2.000000</td>\n",
       "      <td>0.000000</td>\n",
       "    </tr>\n",
       "    <tr>\n",
       "      <th>50%</th>\n",
       "      <td>55.000000</td>\n",
       "      <td>1.000000</td>\n",
       "      <td>1.000000</td>\n",
       "      <td>130.000000</td>\n",
       "      <td>240.000000</td>\n",
       "      <td>0.000000</td>\n",
       "      <td>1.000000</td>\n",
       "      <td>153.000000</td>\n",
       "      <td>0.000000</td>\n",
       "      <td>0.800000</td>\n",
       "      <td>1.000000</td>\n",
       "      <td>0.000000</td>\n",
       "      <td>2.000000</td>\n",
       "      <td>1.000000</td>\n",
       "    </tr>\n",
       "    <tr>\n",
       "      <th>75%</th>\n",
       "      <td>61.000000</td>\n",
       "      <td>1.000000</td>\n",
       "      <td>2.000000</td>\n",
       "      <td>140.000000</td>\n",
       "      <td>274.500000</td>\n",
       "      <td>0.000000</td>\n",
       "      <td>1.000000</td>\n",
       "      <td>166.000000</td>\n",
       "      <td>1.000000</td>\n",
       "      <td>1.600000</td>\n",
       "      <td>2.000000</td>\n",
       "      <td>1.000000</td>\n",
       "      <td>3.000000</td>\n",
       "      <td>1.000000</td>\n",
       "    </tr>\n",
       "    <tr>\n",
       "      <th>max</th>\n",
       "      <td>77.000000</td>\n",
       "      <td>1.000000</td>\n",
       "      <td>3.000000</td>\n",
       "      <td>200.000000</td>\n",
       "      <td>564.000000</td>\n",
       "      <td>1.000000</td>\n",
       "      <td>2.000000</td>\n",
       "      <td>202.000000</td>\n",
       "      <td>1.000000</td>\n",
       "      <td>6.200000</td>\n",
       "      <td>2.000000</td>\n",
       "      <td>4.000000</td>\n",
       "      <td>3.000000</td>\n",
       "      <td>1.000000</td>\n",
       "    </tr>\n",
       "  </tbody>\n",
       "</table>\n",
       "</div>"
      ],
      "text/plain": [
       "              age         sex          cp      trtbps        chol         fbs  \\\n",
       "count  303.000000  303.000000  303.000000  303.000000  303.000000  303.000000   \n",
       "mean    54.366337    0.683168    0.966997  131.623762  246.264026    0.148515   \n",
       "std      9.082101    0.466011    1.032052   17.538143   51.830751    0.356198   \n",
       "min     29.000000    0.000000    0.000000   94.000000  126.000000    0.000000   \n",
       "25%     47.500000    0.000000    0.000000  120.000000  211.000000    0.000000   \n",
       "50%     55.000000    1.000000    1.000000  130.000000  240.000000    0.000000   \n",
       "75%     61.000000    1.000000    2.000000  140.000000  274.500000    0.000000   \n",
       "max     77.000000    1.000000    3.000000  200.000000  564.000000    1.000000   \n",
       "\n",
       "          restecg    thalachh        exng     oldpeak         slp         caa  \\\n",
       "count  303.000000  303.000000  303.000000  303.000000  303.000000  303.000000   \n",
       "mean     0.528053  149.646865    0.326733    1.039604    1.399340    0.729373   \n",
       "std      0.525860   22.905161    0.469794    1.161075    0.616226    1.022606   \n",
       "min      0.000000   71.000000    0.000000    0.000000    0.000000    0.000000   \n",
       "25%      0.000000  133.500000    0.000000    0.000000    1.000000    0.000000   \n",
       "50%      1.000000  153.000000    0.000000    0.800000    1.000000    0.000000   \n",
       "75%      1.000000  166.000000    1.000000    1.600000    2.000000    1.000000   \n",
       "max      2.000000  202.000000    1.000000    6.200000    2.000000    4.000000   \n",
       "\n",
       "            thall      output  \n",
       "count  303.000000  303.000000  \n",
       "mean     2.313531    0.544554  \n",
       "std      0.612277    0.498835  \n",
       "min      0.000000    0.000000  \n",
       "25%      2.000000    0.000000  \n",
       "50%      2.000000    1.000000  \n",
       "75%      3.000000    1.000000  \n",
       "max      3.000000    1.000000  "
      ]
     },
     "execution_count": 5,
     "metadata": {},
     "output_type": "execute_result"
    }
   ],
   "source": [
    "\n",
    "df.describe()"
   ]
  },
  {
   "cell_type": "code",
   "execution_count": 6,
   "id": "7a7f1b90",
   "metadata": {
    "execution": {
     "iopub.execute_input": "2024-03-17T11:21:53.099790Z",
     "iopub.status.busy": "2024-03-17T11:21:53.099045Z",
     "iopub.status.idle": "2024-03-17T11:21:53.105758Z",
     "shell.execute_reply": "2024-03-17T11:21:53.104677Z"
    },
    "papermill": {
     "duration": 0.027535,
     "end_time": "2024-03-17T11:21:53.108313",
     "exception": false,
     "start_time": "2024-03-17T11:21:53.080778",
     "status": "completed"
    },
    "tags": []
   },
   "outputs": [
    {
     "data": {
      "text/plain": [
       "(303, 14)"
      ]
     },
     "execution_count": 6,
     "metadata": {},
     "output_type": "execute_result"
    }
   ],
   "source": [
    "#Let's check the shape of our dataset\n",
    "df.shape"
   ]
  },
  {
   "cell_type": "code",
   "execution_count": 7,
   "id": "a1be51fe",
   "metadata": {
    "execution": {
     "iopub.execute_input": "2024-03-17T11:21:53.144190Z",
     "iopub.status.busy": "2024-03-17T11:21:53.143448Z",
     "iopub.status.idle": "2024-03-17T11:21:53.153209Z",
     "shell.execute_reply": "2024-03-17T11:21:53.152133Z"
    },
    "papermill": {
     "duration": 0.030478,
     "end_time": "2024-03-17T11:21:53.155520",
     "exception": false,
     "start_time": "2024-03-17T11:21:53.125042",
     "status": "completed"
    },
    "tags": []
   },
   "outputs": [
    {
     "data": {
      "text/plain": [
       "age         0.0\n",
       "sex         0.0\n",
       "cp          0.0\n",
       "trtbps      0.0\n",
       "chol        0.0\n",
       "fbs         0.0\n",
       "restecg     0.0\n",
       "thalachh    0.0\n",
       "exng        0.0\n",
       "oldpeak     0.0\n",
       "slp         0.0\n",
       "caa         0.0\n",
       "thall       0.0\n",
       "output      0.0\n",
       "dtype: float64"
      ]
     },
     "execution_count": 7,
     "metadata": {},
     "output_type": "execute_result"
    }
   ],
   "source": [
    "# check if there are null values in our dataset\n",
    "df.isnull().mean()"
   ]
  },
  {
   "cell_type": "code",
   "execution_count": 8,
   "id": "ee00ee45",
   "metadata": {
    "execution": {
     "iopub.execute_input": "2024-03-17T11:21:53.191608Z",
     "iopub.status.busy": "2024-03-17T11:21:53.190833Z",
     "iopub.status.idle": "2024-03-17T11:21:53.200949Z",
     "shell.execute_reply": "2024-03-17T11:21:53.199808Z"
    },
    "papermill": {
     "duration": 0.030985,
     "end_time": "2024-03-17T11:21:53.203342",
     "exception": false,
     "start_time": "2024-03-17T11:21:53.172357",
     "status": "completed"
    },
    "tags": []
   },
   "outputs": [
    {
     "name": "stdout",
     "output_type": "stream",
     "text": [
      "We have only 1 duplicated value in our dataset\n"
     ]
    },
    {
     "data": {
      "text/plain": [
       "1"
      ]
     },
     "execution_count": 8,
     "metadata": {},
     "output_type": "execute_result"
    }
   ],
   "source": [
    "#check if there are duplicated values in our dataset\n",
    "print(\"We have only 1 duplicated value in our dataset\")\n",
    "df.duplicated().sum()\n"
   ]
  },
  {
   "cell_type": "code",
   "execution_count": 9,
   "id": "15a507fa",
   "metadata": {
    "execution": {
     "iopub.execute_input": "2024-03-17T11:21:53.240592Z",
     "iopub.status.busy": "2024-03-17T11:21:53.239768Z",
     "iopub.status.idle": "2024-03-17T11:21:53.249031Z",
     "shell.execute_reply": "2024-03-17T11:21:53.247961Z"
    },
    "papermill": {
     "duration": 0.030983,
     "end_time": "2024-03-17T11:21:53.251660",
     "exception": false,
     "start_time": "2024-03-17T11:21:53.220677",
     "status": "completed"
    },
    "tags": []
   },
   "outputs": [],
   "source": [
    "# Delete the duplicated value\n",
    "df = df.drop_duplicates()"
   ]
  },
  {
   "cell_type": "code",
   "execution_count": 10,
   "id": "fb179092",
   "metadata": {
    "execution": {
     "iopub.execute_input": "2024-03-17T11:21:53.287950Z",
     "iopub.status.busy": "2024-03-17T11:21:53.287551Z",
     "iopub.status.idle": "2024-03-17T11:21:53.303860Z",
     "shell.execute_reply": "2024-03-17T11:21:53.302827Z"
    },
    "papermill": {
     "duration": 0.037223,
     "end_time": "2024-03-17T11:21:53.306092",
     "exception": false,
     "start_time": "2024-03-17T11:21:53.268869",
     "status": "completed"
    },
    "tags": []
   },
   "outputs": [
    {
     "data": {
      "text/html": [
       "<div>\n",
       "<style scoped>\n",
       "    .dataframe tbody tr th:only-of-type {\n",
       "        vertical-align: middle;\n",
       "    }\n",
       "\n",
       "    .dataframe tbody tr th {\n",
       "        vertical-align: top;\n",
       "    }\n",
       "\n",
       "    .dataframe thead th {\n",
       "        text-align: right;\n",
       "    }\n",
       "</style>\n",
       "<table border=\"1\" class=\"dataframe\">\n",
       "  <thead>\n",
       "    <tr style=\"text-align: right;\">\n",
       "      <th></th>\n",
       "      <th>age</th>\n",
       "      <th>sex</th>\n",
       "      <th>cp</th>\n",
       "      <th>trtbps</th>\n",
       "      <th>chol</th>\n",
       "      <th>fbs</th>\n",
       "      <th>restecg</th>\n",
       "      <th>thalachh</th>\n",
       "      <th>exng</th>\n",
       "      <th>oldpeak</th>\n",
       "      <th>slp</th>\n",
       "      <th>caa</th>\n",
       "      <th>thall</th>\n",
       "      <th>output</th>\n",
       "    </tr>\n",
       "  </thead>\n",
       "  <tbody>\n",
       "    <tr>\n",
       "      <th>0</th>\n",
       "      <td>63</td>\n",
       "      <td>1</td>\n",
       "      <td>3</td>\n",
       "      <td>145</td>\n",
       "      <td>233</td>\n",
       "      <td>1</td>\n",
       "      <td>0</td>\n",
       "      <td>150</td>\n",
       "      <td>0</td>\n",
       "      <td>2.3</td>\n",
       "      <td>0</td>\n",
       "      <td>0</td>\n",
       "      <td>1</td>\n",
       "      <td>1</td>\n",
       "    </tr>\n",
       "    <tr>\n",
       "      <th>1</th>\n",
       "      <td>37</td>\n",
       "      <td>1</td>\n",
       "      <td>2</td>\n",
       "      <td>130</td>\n",
       "      <td>250</td>\n",
       "      <td>0</td>\n",
       "      <td>1</td>\n",
       "      <td>187</td>\n",
       "      <td>0</td>\n",
       "      <td>3.5</td>\n",
       "      <td>0</td>\n",
       "      <td>0</td>\n",
       "      <td>2</td>\n",
       "      <td>1</td>\n",
       "    </tr>\n",
       "    <tr>\n",
       "      <th>2</th>\n",
       "      <td>41</td>\n",
       "      <td>0</td>\n",
       "      <td>1</td>\n",
       "      <td>130</td>\n",
       "      <td>204</td>\n",
       "      <td>0</td>\n",
       "      <td>0</td>\n",
       "      <td>172</td>\n",
       "      <td>0</td>\n",
       "      <td>1.4</td>\n",
       "      <td>2</td>\n",
       "      <td>0</td>\n",
       "      <td>2</td>\n",
       "      <td>1</td>\n",
       "    </tr>\n",
       "    <tr>\n",
       "      <th>3</th>\n",
       "      <td>56</td>\n",
       "      <td>1</td>\n",
       "      <td>1</td>\n",
       "      <td>120</td>\n",
       "      <td>236</td>\n",
       "      <td>0</td>\n",
       "      <td>1</td>\n",
       "      <td>178</td>\n",
       "      <td>0</td>\n",
       "      <td>0.8</td>\n",
       "      <td>2</td>\n",
       "      <td>0</td>\n",
       "      <td>2</td>\n",
       "      <td>1</td>\n",
       "    </tr>\n",
       "    <tr>\n",
       "      <th>4</th>\n",
       "      <td>57</td>\n",
       "      <td>0</td>\n",
       "      <td>0</td>\n",
       "      <td>120</td>\n",
       "      <td>354</td>\n",
       "      <td>0</td>\n",
       "      <td>1</td>\n",
       "      <td>163</td>\n",
       "      <td>1</td>\n",
       "      <td>0.6</td>\n",
       "      <td>2</td>\n",
       "      <td>0</td>\n",
       "      <td>2</td>\n",
       "      <td>1</td>\n",
       "    </tr>\n",
       "  </tbody>\n",
       "</table>\n",
       "</div>"
      ],
      "text/plain": [
       "   age  sex  cp  trtbps  chol  fbs  restecg  thalachh  exng  oldpeak  slp  \\\n",
       "0   63    1   3     145   233    1        0       150     0      2.3    0   \n",
       "1   37    1   2     130   250    0        1       187     0      3.5    0   \n",
       "2   41    0   1     130   204    0        0       172     0      1.4    2   \n",
       "3   56    1   1     120   236    0        1       178     0      0.8    2   \n",
       "4   57    0   0     120   354    0        1       163     1      0.6    2   \n",
       "\n",
       "   caa  thall  output  \n",
       "0    0      1       1  \n",
       "1    0      2       1  \n",
       "2    0      2       1  \n",
       "3    0      2       1  \n",
       "4    0      2       1  "
      ]
     },
     "execution_count": 10,
     "metadata": {},
     "output_type": "execute_result"
    }
   ],
   "source": [
    "df.head()"
   ]
  },
  {
   "cell_type": "code",
   "execution_count": 11,
   "id": "92f36429",
   "metadata": {
    "execution": {
     "iopub.execute_input": "2024-03-17T11:21:53.343031Z",
     "iopub.status.busy": "2024-03-17T11:21:53.342311Z",
     "iopub.status.idle": "2024-03-17T11:21:53.593494Z",
     "shell.execute_reply": "2024-03-17T11:21:53.592069Z"
    },
    "papermill": {
     "duration": 0.27233,
     "end_time": "2024-03-17T11:21:53.595838",
     "exception": false,
     "start_time": "2024-03-17T11:21:53.323508",
     "status": "completed"
    },
    "tags": []
   },
   "outputs": [
    {
     "name": "stdout",
     "output_type": "stream",
     "text": [
      "output\n",
      "1    164\n",
      "0    138\n",
      "Name: count, dtype: int64\n",
      " 1---> heart disease   0---> no heart disease\n"
     ]
    },
    {
     "data": {
      "text/plain": [
       "<Axes: xlabel='output'>"
      ]
     },
     "execution_count": 11,
     "metadata": {},
     "output_type": "execute_result"
    },
    {
     "data": {
      "image/png": "[encoded data removed]",
      "text/plain": [
       "<Figure size 640x480 with 1 Axes>"
      ]
     },
     "metadata": {},
     "output_type": "display_data"
    }
   ],
   "source": [
    "# Ratio for healthy and no healthy\n",
    "print(df.output.value_counts())\n",
    "print(\" 1---> heart disease   0---> no heart disease\")\n",
    "df.output.value_counts().plot(kind = \"bar\", color = [\"red\", \"lightblue\"])"
   ]
  },
  {
   "cell_type": "code",
   "execution_count": 12,
   "id": "a38269ec",
   "metadata": {
    "execution": {
     "iopub.execute_input": "2024-03-17T11:21:53.633431Z",
     "iopub.status.busy": "2024-03-17T11:21:53.633053Z",
     "iopub.status.idle": "2024-03-17T11:21:53.643115Z",
     "shell.execute_reply": "2024-03-17T11:21:53.641789Z"
    },
    "papermill": {
     "duration": 0.031731,
     "end_time": "2024-03-17T11:21:53.645447",
     "exception": false,
     "start_time": "2024-03-17T11:21:53.613716",
     "status": "completed"
    },
    "tags": []
   },
   "outputs": [
    {
     "name": "stdout",
     "output_type": "stream",
     "text": [
      "1---> male, 0----> female\n"
     ]
    },
    {
     "data": {
      "text/plain": [
       "sex\n",
       "1    206\n",
       "0     96\n",
       "Name: count, dtype: int64"
      ]
     },
     "execution_count": 12,
     "metadata": {},
     "output_type": "execute_result"
    }
   ],
   "source": [
    "# ratio male and female\n",
    "print(\"1---> male, 0----> female\")\n",
    "df.sex.value_counts()\n"
   ]
  },
  {
   "cell_type": "code",
   "execution_count": 13,
   "id": "d1d80867",
   "metadata": {
    "execution": {
     "iopub.execute_input": "2024-03-17T11:21:53.684232Z",
     "iopub.status.busy": "2024-03-17T11:21:53.683813Z",
     "iopub.status.idle": "2024-03-17T11:21:53.710973Z",
     "shell.execute_reply": "2024-03-17T11:21:53.709850Z"
    },
    "papermill": {
     "duration": 0.04968,
     "end_time": "2024-03-17T11:21:53.713286",
     "exception": false,
     "start_time": "2024-03-17T11:21:53.663606",
     "status": "completed"
    },
    "tags": []
   },
   "outputs": [
    {
     "name": "stdout",
     "output_type": "stream",
     "text": [
      "114 ----> males with no heart disease, 92-----> males with heart issue\n",
      "24----> females with no heart issue, 72-----> females with heart issue\n"
     ]
    },
    {
     "data": {
      "text/html": [
       "<div>\n",
       "<style scoped>\n",
       "    .dataframe tbody tr th:only-of-type {\n",
       "        vertical-align: middle;\n",
       "    }\n",
       "\n",
       "    .dataframe tbody tr th {\n",
       "        vertical-align: top;\n",
       "    }\n",
       "\n",
       "    .dataframe thead th {\n",
       "        text-align: right;\n",
       "    }\n",
       "</style>\n",
       "<table border=\"1\" class=\"dataframe\">\n",
       "  <thead>\n",
       "    <tr style=\"text-align: right;\">\n",
       "      <th>sex</th>\n",
       "      <th>0</th>\n",
       "      <th>1</th>\n",
       "    </tr>\n",
       "    <tr>\n",
       "      <th>output</th>\n",
       "      <th></th>\n",
       "      <th></th>\n",
       "    </tr>\n",
       "  </thead>\n",
       "  <tbody>\n",
       "    <tr>\n",
       "      <th>0</th>\n",
       "      <td>24</td>\n",
       "      <td>114</td>\n",
       "    </tr>\n",
       "    <tr>\n",
       "      <th>1</th>\n",
       "      <td>72</td>\n",
       "      <td>92</td>\n",
       "    </tr>\n",
       "  </tbody>\n",
       "</table>\n",
       "</div>"
      ],
      "text/plain": [
       "sex      0    1\n",
       "output         \n",
       "0       24  114\n",
       "1       72   92"
      ]
     },
     "execution_count": 13,
     "metadata": {},
     "output_type": "execute_result"
    }
   ],
   "source": [
    "#Distribution disease according to sex\n",
    "print(\"114 ----> males with no heart disease, 92-----> males with heart issue\")\n",
    "print(\"24----> females with no heart issue, 72-----> females with heart issue\")\n",
    "pd.crosstab(df.output, df.sex)"
   ]
  },
  {
   "cell_type": "code",
   "execution_count": 14,
   "id": "996a435a",
   "metadata": {
    "execution": {
     "iopub.execute_input": "2024-03-17T11:21:53.752446Z",
     "iopub.status.busy": "2024-03-17T11:21:53.751971Z",
     "iopub.status.idle": "2024-03-17T11:21:54.032972Z",
     "shell.execute_reply": "2024-03-17T11:21:54.031729Z"
    },
    "papermill": {
     "duration": 0.303947,
     "end_time": "2024-03-17T11:21:54.035674",
     "exception": false,
     "start_time": "2024-03-17T11:21:53.731727",
     "status": "completed"
    },
    "tags": []
   },
   "outputs": [
    {
     "data": {
      "text/plain": [
       "<matplotlib.legend.Legend at 0x7bf2afe6faf0>"
      ]
     },
     "execution_count": 14,
     "metadata": {},
     "output_type": "execute_result"
    },
    {
     "data": {
      "image/png": "[encoded data removed]",
      "text/plain": [
       "<Figure size 640x480 with 1 Axes>"
      ]
     },
     "metadata": {},
     "output_type": "display_data"
    }
   ],
   "source": [
    "# illustration using barchat\n",
    "pd.crosstab(df.output, df.sex).plot(kind = \"bar\", color = [\"salmon\", \"lightblue\"])\n",
    "plt.title(\"Distribution according to output and sex\")\n",
    "plt.xlabel(\"0 = no Disease 1 = Disease \")\n",
    "plt.legend([\"female\", \"male\"])"
   ]
  },
  {
   "cell_type": "code",
   "execution_count": 15,
   "id": "545499cb",
   "metadata": {
    "execution": {
     "iopub.execute_input": "2024-03-17T11:21:54.076729Z",
     "iopub.status.busy": "2024-03-17T11:21:54.076349Z",
     "iopub.status.idle": "2024-03-17T11:21:54.960797Z",
     "shell.execute_reply": "2024-03-17T11:21:54.957319Z"
    },
    "papermill": {
     "duration": 0.908369,
     "end_time": "2024-03-17T11:21:54.963446",
     "exception": false,
     "start_time": "2024-03-17T11:21:54.055077",
     "status": "completed"
    },
    "tags": []
   },
   "outputs": [
    {
     "data": {
      "text/plain": [
       "Text(0, 0.5, 'Fredency')"
      ]
     },
     "execution_count": 15,
     "metadata": {},
     "output_type": "execute_result"
    },
    {
     "data": {
      "image/png": "[encoded data removed]",
      "text/plain": [
       "<Figure size 3000x1000 with 1 Axes>"
      ]
     },
     "metadata": {},
     "output_type": "display_data"
    }
   ],
   "source": [
    "#Distribution accordint to age & output\n",
    "pd.crosstab(df.age, df.output).plot(kind = \"bar\",figsize=(30,10) ,color = [\"salmon\", \"lightblue\"])\n",
    "plt.title(\"Distribution accordint to age & output\")\n",
    "plt.xlabel(\"Age\")\n",
    "plt.ylabel(\"Fredency\")\n"
   ]
  },
  {
   "cell_type": "code",
   "execution_count": 16,
   "id": "721c9dbc",
   "metadata": {
    "execution": {
     "iopub.execute_input": "2024-03-17T11:21:55.011151Z",
     "iopub.status.busy": "2024-03-17T11:21:55.010727Z",
     "iopub.status.idle": "2024-03-17T11:21:56.092804Z",
     "shell.execute_reply": "2024-03-17T11:21:56.092002Z"
    },
    "papermill": {
     "duration": 1.109916,
     "end_time": "2024-03-17T11:21:56.096506",
     "exception": false,
     "start_time": "2024-03-17T11:21:54.986590",
     "status": "completed"
    },
    "tags": []
   },
   "outputs": [
    {
     "data": {
      "text/plain": [
       "<Axes: >"
      ]
     },
     "execution_count": 16,
     "metadata": {},
     "output_type": "execute_result"
    },
    {
     "data": {
      "image/png": "[encoded data removed]",
      "text/plain": [
       "<Figure size 1200x800 with 2 Axes>"
      ]
     },
     "metadata": {},
     "output_type": "display_data"
    }
   ],
   "source": [
    "#let's check the correlation between variables\n",
    "plt.figure(figsize = (12,8))\n",
    "sns.heatmap(df.corr(), annot = True)"
   ]
  },
  {
   "cell_type": "code",
   "execution_count": 17,
   "id": "81afe6d9",
   "metadata": {
    "execution": {
     "iopub.execute_input": "2024-03-17T11:21:56.143707Z",
     "iopub.status.busy": "2024-03-17T11:21:56.143300Z",
     "iopub.status.idle": "2024-03-17T11:21:56.150947Z",
     "shell.execute_reply": "2024-03-17T11:21:56.149618Z"
    },
    "papermill": {
     "duration": 0.033862,
     "end_time": "2024-03-17T11:21:56.153321",
     "exception": false,
     "start_time": "2024-03-17T11:21:56.119459",
     "status": "completed"
    },
    "tags": []
   },
   "outputs": [],
   "source": [
    "#function to check to outliers (histogram, boxplot)\n",
    "def plotvariable(df, variable):\n",
    "    plt.figure(figsize= (16,4))\n",
    "    #histogram\n",
    "    plt.subplot(1,2,1)\n",
    "    plt.title(variable)\n",
    "    plt.hist(df[variable], alpha = 0.5)\n",
    "    #boxplot\n",
    "    plt.subplot(1,2,2)\n",
    "    plt.title(variable)\n",
    "    sns.boxplot(df[variable])\n",
    "    \n",
    "    \n",
    "    "
   ]
  },
  {
   "cell_type": "code",
   "execution_count": 18,
   "id": "1d9d201b",
   "metadata": {
    "execution": {
     "iopub.execute_input": "2024-03-17T11:21:56.199946Z",
     "iopub.status.busy": "2024-03-17T11:21:56.199499Z",
     "iopub.status.idle": "2024-03-17T11:22:02.747904Z",
     "shell.execute_reply": "2024-03-17T11:22:02.746095Z"
    },
    "papermill": {
     "duration": 6.575144,
     "end_time": "2024-03-17T11:22:02.751008",
     "exception": false,
     "start_time": "2024-03-17T11:21:56.175864",
     "status": "completed"
    },
    "tags": []
   },
   "outputs": [
    {
     "data": {
      "image/png": "[encoded data removed]",
      "text/plain": [
       "<Figure size 1600x400 with 2 Axes>"
      ]
     },
     "metadata": {},
     "output_type": "display_data"
    },
    {
     "data": {
      "image/png": "[encoded data removed]",
      "text/plain": [
       "<Figure size 1600x400 with 2 Axes>"
      ]
     },
     "metadata": {},
     "output_type": "display_data"
    },
    {
     "data": {
      "image/png": "[encoded data removed]",
      "text/plain": [
       "<Figure size 1600x400 with 2 Axes>"
      ]
     },
     "metadata": {},
     "output_type": "display_data"
    },
    {
     "data": {
      "image/png": "[encoded data removed]",
      "text/plain": [
       "<Figure size 1600x400 with 2 Axes>"
      ]
     },
     "metadata": {},
     "output_type": "display_data"
    },
    {
     "data": {
      "image/png": "[encoded data removed]",
      "text/plain": [
       "<Figure size 1600x400 with 2 Axes>"
      ]
     },
     "metadata": {},
     "output_type": "display_data"
    },
    {
     "data": {
      "image/png": "[encoded data removed]",
      "text/plain": [
       "<Figure size 1600x400 with 2 Axes>"
      ]
     },
     "metadata": {},
     "output_type": "display_data"
    },
    {
     "data": {
      "image/png": "[encoded data removed]",
      "text/plain": [
       "<Figure size 1600x400 with 2 Axes>"
      ]
     },
     "metadata": {},
     "output_type": "display_data"
    },
    {
     "data": {
      "image/png": "[encoded data removed]",
      "text/plain": [
       "<Figure size 1600x400 with 2 Axes>"
      ]
     },
     "metadata": {},
     "output_type": "display_data"
    },
    {
     "data": {
      "image/png": "[encoded data removed]",
      "text/plain": [
       "<Figure size 1600x400 with 2 Axes>"
      ]
     },
     "metadata": {},
     "output_type": "display_data"
    },
    {
     "data": {
      "image/png": "[encoded data removed]",
      "text/plain": [
       "<Figure size 1600x400 with 2 Axes>"
      ]
     },
     "metadata": {},
     "output_type": "display_data"
    },
    {
     "data": {
      "image/png": "[encoded data removed]",
      "text/plain": [
       "<Figure size 1600x400 with 2 Axes>"
      ]
     },
     "metadata": {},
     "output_type": "display_data"
    },
    {
     "data": {
      "image/png": "[encoded data removed]",
      "text/plain": [
       "<Figure size 1600x400 with 2 Axes>"
      ]
     },
     "metadata": {},
     "output_type": "display_data"
    },
    {
     "data": {
      "image/png": "[encoded data removed]",
      "text/plain": [
       "<Figure size 1600x400 with 2 Axes>"
      ]
     },
     "metadata": {},
     "output_type": "display_data"
    },
    {
     "data": {
      "image/png": "[encoded data removed]",
      "text/plain": [
       "<Figure size 1600x400 with 2 Axes>"
      ]
     },
     "metadata": {},
     "output_type": "display_data"
    }
   ],
   "source": [
    "#Let's check how our data are distributed\n",
    "for columns in df.columns:\n",
    "    plotvariable(df, columns)"
   ]
  },
  {
   "cell_type": "code",
   "execution_count": 19,
   "id": "38bfafc6",
   "metadata": {
    "execution": {
     "iopub.execute_input": "2024-03-17T11:22:02.810611Z",
     "iopub.status.busy": "2024-03-17T11:22:02.809774Z",
     "iopub.status.idle": "2024-03-17T11:22:02.821451Z",
     "shell.execute_reply": "2024-03-17T11:22:02.820434Z"
    },
    "papermill": {
     "duration": 0.044363,
     "end_time": "2024-03-17T11:22:02.824028",
     "exception": false,
     "start_time": "2024-03-17T11:22:02.779665",
     "status": "completed"
    },
    "tags": []
   },
   "outputs": [],
   "source": [
    "# create a copy of our dataset\n",
    "data1 = df.copy()\n",
    "data_new = pd.get_dummies(data1, columns = ['cp', 'slp', 'thall','restecg']) \n"
   ]
  },
  {
   "cell_type": "code",
   "execution_count": 20,
   "id": "971d7382",
   "metadata": {
    "execution": {
     "iopub.execute_input": "2024-03-17T11:22:02.882203Z",
     "iopub.status.busy": "2024-03-17T11:22:02.881817Z",
     "iopub.status.idle": "2024-03-17T11:22:02.911931Z",
     "shell.execute_reply": "2024-03-17T11:22:02.910846Z"
    },
    "papermill": {
     "duration": 0.062104,
     "end_time": "2024-03-17T11:22:02.914400",
     "exception": false,
     "start_time": "2024-03-17T11:22:02.852296",
     "status": "completed"
    },
    "tags": []
   },
   "outputs": [
    {
     "data": {
      "text/html": [
       "<div>\n",
       "<style scoped>\n",
       "    .dataframe tbody tr th:only-of-type {\n",
       "        vertical-align: middle;\n",
       "    }\n",
       "\n",
       "    .dataframe tbody tr th {\n",
       "        vertical-align: top;\n",
       "    }\n",
       "\n",
       "    .dataframe thead th {\n",
       "        text-align: right;\n",
       "    }\n",
       "</style>\n",
       "<table border=\"1\" class=\"dataframe\">\n",
       "  <thead>\n",
       "    <tr style=\"text-align: right;\">\n",
       "      <th></th>\n",
       "      <th>age</th>\n",
       "      <th>sex</th>\n",
       "      <th>trtbps</th>\n",
       "      <th>chol</th>\n",
       "      <th>fbs</th>\n",
       "      <th>thalachh</th>\n",
       "      <th>exng</th>\n",
       "      <th>oldpeak</th>\n",
       "      <th>caa</th>\n",
       "      <th>output</th>\n",
       "      <th>cp_0</th>\n",
       "      <th>cp_1</th>\n",
       "      <th>cp_2</th>\n",
       "      <th>cp_3</th>\n",
       "      <th>slp_0</th>\n",
       "      <th>slp_1</th>\n",
       "      <th>slp_2</th>\n",
       "      <th>thall_0</th>\n",
       "      <th>thall_1</th>\n",
       "      <th>thall_2</th>\n",
       "      <th>thall_3</th>\n",
       "      <th>restecg_0</th>\n",
       "      <th>restecg_1</th>\n",
       "      <th>restecg_2</th>\n",
       "    </tr>\n",
       "  </thead>\n",
       "  <tbody>\n",
       "    <tr>\n",
       "      <th>0</th>\n",
       "      <td>63</td>\n",
       "      <td>1</td>\n",
       "      <td>145</td>\n",
       "      <td>233</td>\n",
       "      <td>1</td>\n",
       "      <td>150</td>\n",
       "      <td>0</td>\n",
       "      <td>2.3</td>\n",
       "      <td>0</td>\n",
       "      <td>1</td>\n",
       "      <td>False</td>\n",
       "      <td>False</td>\n",
       "      <td>False</td>\n",
       "      <td>True</td>\n",
       "      <td>True</td>\n",
       "      <td>False</td>\n",
       "      <td>False</td>\n",
       "      <td>False</td>\n",
       "      <td>True</td>\n",
       "      <td>False</td>\n",
       "      <td>False</td>\n",
       "      <td>True</td>\n",
       "      <td>False</td>\n",
       "      <td>False</td>\n",
       "    </tr>\n",
       "    <tr>\n",
       "      <th>1</th>\n",
       "      <td>37</td>\n",
       "      <td>1</td>\n",
       "      <td>130</td>\n",
       "      <td>250</td>\n",
       "      <td>0</td>\n",
       "      <td>187</td>\n",
       "      <td>0</td>\n",
       "      <td>3.5</td>\n",
       "      <td>0</td>\n",
       "      <td>1</td>\n",
       "      <td>False</td>\n",
       "      <td>False</td>\n",
       "      <td>True</td>\n",
       "      <td>False</td>\n",
       "      <td>True</td>\n",
       "      <td>False</td>\n",
       "      <td>False</td>\n",
       "      <td>False</td>\n",
       "      <td>False</td>\n",
       "      <td>True</td>\n",
       "      <td>False</td>\n",
       "      <td>False</td>\n",
       "      <td>True</td>\n",
       "      <td>False</td>\n",
       "    </tr>\n",
       "    <tr>\n",
       "      <th>2</th>\n",
       "      <td>41</td>\n",
       "      <td>0</td>\n",
       "      <td>130</td>\n",
       "      <td>204</td>\n",
       "      <td>0</td>\n",
       "      <td>172</td>\n",
       "      <td>0</td>\n",
       "      <td>1.4</td>\n",
       "      <td>0</td>\n",
       "      <td>1</td>\n",
       "      <td>False</td>\n",
       "      <td>True</td>\n",
       "      <td>False</td>\n",
       "      <td>False</td>\n",
       "      <td>False</td>\n",
       "      <td>False</td>\n",
       "      <td>True</td>\n",
       "      <td>False</td>\n",
       "      <td>False</td>\n",
       "      <td>True</td>\n",
       "      <td>False</td>\n",
       "      <td>True</td>\n",
       "      <td>False</td>\n",
       "      <td>False</td>\n",
       "    </tr>\n",
       "    <tr>\n",
       "      <th>3</th>\n",
       "      <td>56</td>\n",
       "      <td>1</td>\n",
       "      <td>120</td>\n",
       "      <td>236</td>\n",
       "      <td>0</td>\n",
       "      <td>178</td>\n",
       "      <td>0</td>\n",
       "      <td>0.8</td>\n",
       "      <td>0</td>\n",
       "      <td>1</td>\n",
       "      <td>False</td>\n",
       "      <td>True</td>\n",
       "      <td>False</td>\n",
       "      <td>False</td>\n",
       "      <td>False</td>\n",
       "      <td>False</td>\n",
       "      <td>True</td>\n",
       "      <td>False</td>\n",
       "      <td>False</td>\n",
       "      <td>True</td>\n",
       "      <td>False</td>\n",
       "      <td>False</td>\n",
       "      <td>True</td>\n",
       "      <td>False</td>\n",
       "    </tr>\n",
       "    <tr>\n",
       "      <th>4</th>\n",
       "      <td>57</td>\n",
       "      <td>0</td>\n",
       "      <td>120</td>\n",
       "      <td>354</td>\n",
       "      <td>0</td>\n",
       "      <td>163</td>\n",
       "      <td>1</td>\n",
       "      <td>0.6</td>\n",
       "      <td>0</td>\n",
       "      <td>1</td>\n",
       "      <td>True</td>\n",
       "      <td>False</td>\n",
       "      <td>False</td>\n",
       "      <td>False</td>\n",
       "      <td>False</td>\n",
       "      <td>False</td>\n",
       "      <td>True</td>\n",
       "      <td>False</td>\n",
       "      <td>False</td>\n",
       "      <td>True</td>\n",
       "      <td>False</td>\n",
       "      <td>False</td>\n",
       "      <td>True</td>\n",
       "      <td>False</td>\n",
       "    </tr>\n",
       "    <tr>\n",
       "      <th>...</th>\n",
       "      <td>...</td>\n",
       "      <td>...</td>\n",
       "      <td>...</td>\n",
       "      <td>...</td>\n",
       "      <td>...</td>\n",
       "      <td>...</td>\n",
       "      <td>...</td>\n",
       "      <td>...</td>\n",
       "      <td>...</td>\n",
       "      <td>...</td>\n",
       "      <td>...</td>\n",
       "      <td>...</td>\n",
       "      <td>...</td>\n",
       "      <td>...</td>\n",
       "      <td>...</td>\n",
       "      <td>...</td>\n",
       "      <td>...</td>\n",
       "      <td>...</td>\n",
       "      <td>...</td>\n",
       "      <td>...</td>\n",
       "      <td>...</td>\n",
       "      <td>...</td>\n",
       "      <td>...</td>\n",
       "      <td>...</td>\n",
       "    </tr>\n",
       "    <tr>\n",
       "      <th>298</th>\n",
       "      <td>57</td>\n",
       "      <td>0</td>\n",
       "      <td>140</td>\n",
       "      <td>241</td>\n",
       "      <td>0</td>\n",
       "      <td>123</td>\n",
       "      <td>1</td>\n",
       "      <td>0.2</td>\n",
       "      <td>0</td>\n",
       "      <td>0</td>\n",
       "      <td>True</td>\n",
       "      <td>False</td>\n",
       "      <td>False</td>\n",
       "      <td>False</td>\n",
       "      <td>False</td>\n",
       "      <td>True</td>\n",
       "      <td>False</td>\n",
       "      <td>False</td>\n",
       "      <td>False</td>\n",
       "      <td>False</td>\n",
       "      <td>True</td>\n",
       "      <td>False</td>\n",
       "      <td>True</td>\n",
       "      <td>False</td>\n",
       "    </tr>\n",
       "    <tr>\n",
       "      <th>299</th>\n",
       "      <td>45</td>\n",
       "      <td>1</td>\n",
       "      <td>110</td>\n",
       "      <td>264</td>\n",
       "      <td>0</td>\n",
       "      <td>132</td>\n",
       "      <td>0</td>\n",
       "      <td>1.2</td>\n",
       "      <td>0</td>\n",
       "      <td>0</td>\n",
       "      <td>False</td>\n",
       "      <td>False</td>\n",
       "      <td>False</td>\n",
       "      <td>True</td>\n",
       "      <td>False</td>\n",
       "      <td>True</td>\n",
       "      <td>False</td>\n",
       "      <td>False</td>\n",
       "      <td>False</td>\n",
       "      <td>False</td>\n",
       "      <td>True</td>\n",
       "      <td>False</td>\n",
       "      <td>True</td>\n",
       "      <td>False</td>\n",
       "    </tr>\n",
       "    <tr>\n",
       "      <th>300</th>\n",
       "      <td>68</td>\n",
       "      <td>1</td>\n",
       "      <td>144</td>\n",
       "      <td>193</td>\n",
       "      <td>1</td>\n",
       "      <td>141</td>\n",
       "      <td>0</td>\n",
       "      <td>3.4</td>\n",
       "      <td>2</td>\n",
       "      <td>0</td>\n",
       "      <td>True</td>\n",
       "      <td>False</td>\n",
       "      <td>False</td>\n",
       "      <td>False</td>\n",
       "      <td>False</td>\n",
       "      <td>True</td>\n",
       "      <td>False</td>\n",
       "      <td>False</td>\n",
       "      <td>False</td>\n",
       "      <td>False</td>\n",
       "      <td>True</td>\n",
       "      <td>False</td>\n",
       "      <td>True</td>\n",
       "      <td>False</td>\n",
       "    </tr>\n",
       "    <tr>\n",
       "      <th>301</th>\n",
       "      <td>57</td>\n",
       "      <td>1</td>\n",
       "      <td>130</td>\n",
       "      <td>131</td>\n",
       "      <td>0</td>\n",
       "      <td>115</td>\n",
       "      <td>1</td>\n",
       "      <td>1.2</td>\n",
       "      <td>1</td>\n",
       "      <td>0</td>\n",
       "      <td>True</td>\n",
       "      <td>False</td>\n",
       "      <td>False</td>\n",
       "      <td>False</td>\n",
       "      <td>False</td>\n",
       "      <td>True</td>\n",
       "      <td>False</td>\n",
       "      <td>False</td>\n",
       "      <td>False</td>\n",
       "      <td>False</td>\n",
       "      <td>True</td>\n",
       "      <td>False</td>\n",
       "      <td>True</td>\n",
       "      <td>False</td>\n",
       "    </tr>\n",
       "    <tr>\n",
       "      <th>302</th>\n",
       "      <td>57</td>\n",
       "      <td>0</td>\n",
       "      <td>130</td>\n",
       "      <td>236</td>\n",
       "      <td>0</td>\n",
       "      <td>174</td>\n",
       "      <td>0</td>\n",
       "      <td>0.0</td>\n",
       "      <td>1</td>\n",
       "      <td>0</td>\n",
       "      <td>False</td>\n",
       "      <td>True</td>\n",
       "      <td>False</td>\n",
       "      <td>False</td>\n",
       "      <td>False</td>\n",
       "      <td>True</td>\n",
       "      <td>False</td>\n",
       "      <td>False</td>\n",
       "      <td>False</td>\n",
       "      <td>True</td>\n",
       "      <td>False</td>\n",
       "      <td>True</td>\n",
       "      <td>False</td>\n",
       "      <td>False</td>\n",
       "    </tr>\n",
       "  </tbody>\n",
       "</table>\n",
       "<p>302 rows × 24 columns</p>\n",
       "</div>"
      ],
      "text/plain": [
       "     age  sex  trtbps  chol  fbs  thalachh  exng  oldpeak  caa  output   cp_0  \\\n",
       "0     63    1     145   233    1       150     0      2.3    0       1  False   \n",
       "1     37    1     130   250    0       187     0      3.5    0       1  False   \n",
       "2     41    0     130   204    0       172     0      1.4    0       1  False   \n",
       "3     56    1     120   236    0       178     0      0.8    0       1  False   \n",
       "4     57    0     120   354    0       163     1      0.6    0       1   True   \n",
       "..   ...  ...     ...   ...  ...       ...   ...      ...  ...     ...    ...   \n",
       "298   57    0     140   241    0       123     1      0.2    0       0   True   \n",
       "299   45    1     110   264    0       132     0      1.2    0       0  False   \n",
       "300   68    1     144   193    1       141     0      3.4    2       0   True   \n",
       "301   57    1     130   131    0       115     1      1.2    1       0   True   \n",
       "302   57    0     130   236    0       174     0      0.0    1       0  False   \n",
       "\n",
       "      cp_1   cp_2   cp_3  slp_0  slp_1  slp_2  thall_0  thall_1  thall_2  \\\n",
       "0    False  False   True   True  False  False    False     True    False   \n",
       "1    False   True  False   True  False  False    False    False     True   \n",
       "2     True  False  False  False  False   True    False    False     True   \n",
       "3     True  False  False  False  False   True    False    False     True   \n",
       "4    False  False  False  False  False   True    False    False     True   \n",
       "..     ...    ...    ...    ...    ...    ...      ...      ...      ...   \n",
       "298  False  False  False  False   True  False    False    False    False   \n",
       "299  False  False   True  False   True  False    False    False    False   \n",
       "300  False  False  False  False   True  False    False    False    False   \n",
       "301  False  False  False  False   True  False    False    False    False   \n",
       "302   True  False  False  False   True  False    False    False     True   \n",
       "\n",
       "     thall_3  restecg_0  restecg_1  restecg_2  \n",
       "0      False       True      False      False  \n",
       "1      False      False       True      False  \n",
       "2      False       True      False      False  \n",
       "3      False      False       True      False  \n",
       "4      False      False       True      False  \n",
       "..       ...        ...        ...        ...  \n",
       "298     True      False       True      False  \n",
       "299     True      False       True      False  \n",
       "300     True      False       True      False  \n",
       "301     True      False       True      False  \n",
       "302    False       True      False      False  \n",
       "\n",
       "[302 rows x 24 columns]"
      ]
     },
     "execution_count": 20,
     "metadata": {},
     "output_type": "execute_result"
    }
   ],
   "source": [
    "\n",
    "data_new"
   ]
  },
  {
   "cell_type": "code",
   "execution_count": 21,
   "id": "967eade5",
   "metadata": {
    "execution": {
     "iopub.execute_input": "2024-03-17T11:22:02.975197Z",
     "iopub.status.busy": "2024-03-17T11:22:02.974367Z",
     "iopub.status.idle": "2024-03-17T11:22:02.980546Z",
     "shell.execute_reply": "2024-03-17T11:22:02.979692Z"
    },
    "papermill": {
     "duration": 0.039383,
     "end_time": "2024-03-17T11:22:02.982904",
     "exception": false,
     "start_time": "2024-03-17T11:22:02.943521",
     "status": "completed"
    },
    "tags": []
   },
   "outputs": [],
   "source": [
    "data_new1 = data_new.copy()\n",
    "data_new1['cp_0'] = data_new1['cp_0'].astype(int)"
   ]
  },
  {
   "cell_type": "code",
   "execution_count": 22,
   "id": "080de88a",
   "metadata": {
    "execution": {
     "iopub.execute_input": "2024-03-17T11:22:03.044260Z",
     "iopub.status.busy": "2024-03-17T11:22:03.043481Z",
     "iopub.status.idle": "2024-03-17T11:22:03.048915Z",
     "shell.execute_reply": "2024-03-17T11:22:03.048063Z"
    },
    "papermill": {
     "duration": 0.039092,
     "end_time": "2024-03-17T11:22:03.051329",
     "exception": false,
     "start_time": "2024-03-17T11:22:03.012237",
     "status": "completed"
    },
    "tags": []
   },
   "outputs": [],
   "source": [
    "data1 = data_new1*1\n",
    "#W multiply our dataset by 1 to get rid our boolean values and get only O and 1"
   ]
  },
  {
   "cell_type": "code",
   "execution_count": 23,
   "id": "97b0283f",
   "metadata": {
    "execution": {
     "iopub.execute_input": "2024-03-17T11:22:03.170710Z",
     "iopub.status.busy": "2024-03-17T11:22:03.169775Z",
     "iopub.status.idle": "2024-03-17T11:22:03.194622Z",
     "shell.execute_reply": "2024-03-17T11:22:03.193452Z"
    },
    "papermill": {
     "duration": 0.058244,
     "end_time": "2024-03-17T11:22:03.197173",
     "exception": false,
     "start_time": "2024-03-17T11:22:03.138929",
     "status": "completed"
    },
    "tags": []
   },
   "outputs": [
    {
     "data": {
      "text/html": [
       "<div>\n",
       "<style scoped>\n",
       "    .dataframe tbody tr th:only-of-type {\n",
       "        vertical-align: middle;\n",
       "    }\n",
       "\n",
       "    .dataframe tbody tr th {\n",
       "        vertical-align: top;\n",
       "    }\n",
       "\n",
       "    .dataframe thead th {\n",
       "        text-align: right;\n",
       "    }\n",
       "</style>\n",
       "<table border=\"1\" class=\"dataframe\">\n",
       "  <thead>\n",
       "    <tr style=\"text-align: right;\">\n",
       "      <th></th>\n",
       "      <th>age</th>\n",
       "      <th>sex</th>\n",
       "      <th>trtbps</th>\n",
       "      <th>chol</th>\n",
       "      <th>fbs</th>\n",
       "      <th>thalachh</th>\n",
       "      <th>exng</th>\n",
       "      <th>oldpeak</th>\n",
       "      <th>caa</th>\n",
       "      <th>output</th>\n",
       "      <th>cp_0</th>\n",
       "      <th>cp_1</th>\n",
       "      <th>cp_2</th>\n",
       "      <th>cp_3</th>\n",
       "      <th>slp_0</th>\n",
       "      <th>slp_1</th>\n",
       "      <th>slp_2</th>\n",
       "      <th>thall_0</th>\n",
       "      <th>thall_1</th>\n",
       "      <th>thall_2</th>\n",
       "      <th>thall_3</th>\n",
       "      <th>restecg_0</th>\n",
       "      <th>restecg_1</th>\n",
       "      <th>restecg_2</th>\n",
       "    </tr>\n",
       "  </thead>\n",
       "  <tbody>\n",
       "    <tr>\n",
       "      <th>0</th>\n",
       "      <td>63</td>\n",
       "      <td>1</td>\n",
       "      <td>145</td>\n",
       "      <td>233</td>\n",
       "      <td>1</td>\n",
       "      <td>150</td>\n",
       "      <td>0</td>\n",
       "      <td>2.3</td>\n",
       "      <td>0</td>\n",
       "      <td>1</td>\n",
       "      <td>0</td>\n",
       "      <td>0</td>\n",
       "      <td>0</td>\n",
       "      <td>1</td>\n",
       "      <td>1</td>\n",
       "      <td>0</td>\n",
       "      <td>0</td>\n",
       "      <td>0</td>\n",
       "      <td>1</td>\n",
       "      <td>0</td>\n",
       "      <td>0</td>\n",
       "      <td>1</td>\n",
       "      <td>0</td>\n",
       "      <td>0</td>\n",
       "    </tr>\n",
       "    <tr>\n",
       "      <th>1</th>\n",
       "      <td>37</td>\n",
       "      <td>1</td>\n",
       "      <td>130</td>\n",
       "      <td>250</td>\n",
       "      <td>0</td>\n",
       "      <td>187</td>\n",
       "      <td>0</td>\n",
       "      <td>3.5</td>\n",
       "      <td>0</td>\n",
       "      <td>1</td>\n",
       "      <td>0</td>\n",
       "      <td>0</td>\n",
       "      <td>1</td>\n",
       "      <td>0</td>\n",
       "      <td>1</td>\n",
       "      <td>0</td>\n",
       "      <td>0</td>\n",
       "      <td>0</td>\n",
       "      <td>0</td>\n",
       "      <td>1</td>\n",
       "      <td>0</td>\n",
       "      <td>0</td>\n",
       "      <td>1</td>\n",
       "      <td>0</td>\n",
       "    </tr>\n",
       "    <tr>\n",
       "      <th>2</th>\n",
       "      <td>41</td>\n",
       "      <td>0</td>\n",
       "      <td>130</td>\n",
       "      <td>204</td>\n",
       "      <td>0</td>\n",
       "      <td>172</td>\n",
       "      <td>0</td>\n",
       "      <td>1.4</td>\n",
       "      <td>0</td>\n",
       "      <td>1</td>\n",
       "      <td>0</td>\n",
       "      <td>1</td>\n",
       "      <td>0</td>\n",
       "      <td>0</td>\n",
       "      <td>0</td>\n",
       "      <td>0</td>\n",
       "      <td>1</td>\n",
       "      <td>0</td>\n",
       "      <td>0</td>\n",
       "      <td>1</td>\n",
       "      <td>0</td>\n",
       "      <td>1</td>\n",
       "      <td>0</td>\n",
       "      <td>0</td>\n",
       "    </tr>\n",
       "    <tr>\n",
       "      <th>3</th>\n",
       "      <td>56</td>\n",
       "      <td>1</td>\n",
       "      <td>120</td>\n",
       "      <td>236</td>\n",
       "      <td>0</td>\n",
       "      <td>178</td>\n",
       "      <td>0</td>\n",
       "      <td>0.8</td>\n",
       "      <td>0</td>\n",
       "      <td>1</td>\n",
       "      <td>0</td>\n",
       "      <td>1</td>\n",
       "      <td>0</td>\n",
       "      <td>0</td>\n",
       "      <td>0</td>\n",
       "      <td>0</td>\n",
       "      <td>1</td>\n",
       "      <td>0</td>\n",
       "      <td>0</td>\n",
       "      <td>1</td>\n",
       "      <td>0</td>\n",
       "      <td>0</td>\n",
       "      <td>1</td>\n",
       "      <td>0</td>\n",
       "    </tr>\n",
       "    <tr>\n",
       "      <th>4</th>\n",
       "      <td>57</td>\n",
       "      <td>0</td>\n",
       "      <td>120</td>\n",
       "      <td>354</td>\n",
       "      <td>0</td>\n",
       "      <td>163</td>\n",
       "      <td>1</td>\n",
       "      <td>0.6</td>\n",
       "      <td>0</td>\n",
       "      <td>1</td>\n",
       "      <td>1</td>\n",
       "      <td>0</td>\n",
       "      <td>0</td>\n",
       "      <td>0</td>\n",
       "      <td>0</td>\n",
       "      <td>0</td>\n",
       "      <td>1</td>\n",
       "      <td>0</td>\n",
       "      <td>0</td>\n",
       "      <td>1</td>\n",
       "      <td>0</td>\n",
       "      <td>0</td>\n",
       "      <td>1</td>\n",
       "      <td>0</td>\n",
       "    </tr>\n",
       "    <tr>\n",
       "      <th>...</th>\n",
       "      <td>...</td>\n",
       "      <td>...</td>\n",
       "      <td>...</td>\n",
       "      <td>...</td>\n",
       "      <td>...</td>\n",
       "      <td>...</td>\n",
       "      <td>...</td>\n",
       "      <td>...</td>\n",
       "      <td>...</td>\n",
       "      <td>...</td>\n",
       "      <td>...</td>\n",
       "      <td>...</td>\n",
       "      <td>...</td>\n",
       "      <td>...</td>\n",
       "      <td>...</td>\n",
       "      <td>...</td>\n",
       "      <td>...</td>\n",
       "      <td>...</td>\n",
       "      <td>...</td>\n",
       "      <td>...</td>\n",
       "      <td>...</td>\n",
       "      <td>...</td>\n",
       "      <td>...</td>\n",
       "      <td>...</td>\n",
       "    </tr>\n",
       "    <tr>\n",
       "      <th>298</th>\n",
       "      <td>57</td>\n",
       "      <td>0</td>\n",
       "      <td>140</td>\n",
       "      <td>241</td>\n",
       "      <td>0</td>\n",
       "      <td>123</td>\n",
       "      <td>1</td>\n",
       "      <td>0.2</td>\n",
       "      <td>0</td>\n",
       "      <td>0</td>\n",
       "      <td>1</td>\n",
       "      <td>0</td>\n",
       "      <td>0</td>\n",
       "      <td>0</td>\n",
       "      <td>0</td>\n",
       "      <td>1</td>\n",
       "      <td>0</td>\n",
       "      <td>0</td>\n",
       "      <td>0</td>\n",
       "      <td>0</td>\n",
       "      <td>1</td>\n",
       "      <td>0</td>\n",
       "      <td>1</td>\n",
       "      <td>0</td>\n",
       "    </tr>\n",
       "    <tr>\n",
       "      <th>299</th>\n",
       "      <td>45</td>\n",
       "      <td>1</td>\n",
       "      <td>110</td>\n",
       "      <td>264</td>\n",
       "      <td>0</td>\n",
       "      <td>132</td>\n",
       "      <td>0</td>\n",
       "      <td>1.2</td>\n",
       "      <td>0</td>\n",
       "      <td>0</td>\n",
       "      <td>0</td>\n",
       "      <td>0</td>\n",
       "      <td>0</td>\n",
       "      <td>1</td>\n",
       "      <td>0</td>\n",
       "      <td>1</td>\n",
       "      <td>0</td>\n",
       "      <td>0</td>\n",
       "      <td>0</td>\n",
       "      <td>0</td>\n",
       "      <td>1</td>\n",
       "      <td>0</td>\n",
       "      <td>1</td>\n",
       "      <td>0</td>\n",
       "    </tr>\n",
       "    <tr>\n",
       "      <th>300</th>\n",
       "      <td>68</td>\n",
       "      <td>1</td>\n",
       "      <td>144</td>\n",
       "      <td>193</td>\n",
       "      <td>1</td>\n",
       "      <td>141</td>\n",
       "      <td>0</td>\n",
       "      <td>3.4</td>\n",
       "      <td>2</td>\n",
       "      <td>0</td>\n",
       "      <td>1</td>\n",
       "      <td>0</td>\n",
       "      <td>0</td>\n",
       "      <td>0</td>\n",
       "      <td>0</td>\n",
       "      <td>1</td>\n",
       "      <td>0</td>\n",
       "      <td>0</td>\n",
       "      <td>0</td>\n",
       "      <td>0</td>\n",
       "      <td>1</td>\n",
       "      <td>0</td>\n",
       "      <td>1</td>\n",
       "      <td>0</td>\n",
       "    </tr>\n",
       "    <tr>\n",
       "      <th>301</th>\n",
       "      <td>57</td>\n",
       "      <td>1</td>\n",
       "      <td>130</td>\n",
       "      <td>131</td>\n",
       "      <td>0</td>\n",
       "      <td>115</td>\n",
       "      <td>1</td>\n",
       "      <td>1.2</td>\n",
       "      <td>1</td>\n",
       "      <td>0</td>\n",
       "      <td>1</td>\n",
       "      <td>0</td>\n",
       "      <td>0</td>\n",
       "      <td>0</td>\n",
       "      <td>0</td>\n",
       "      <td>1</td>\n",
       "      <td>0</td>\n",
       "      <td>0</td>\n",
       "      <td>0</td>\n",
       "      <td>0</td>\n",
       "      <td>1</td>\n",
       "      <td>0</td>\n",
       "      <td>1</td>\n",
       "      <td>0</td>\n",
       "    </tr>\n",
       "    <tr>\n",
       "      <th>302</th>\n",
       "      <td>57</td>\n",
       "      <td>0</td>\n",
       "      <td>130</td>\n",
       "      <td>236</td>\n",
       "      <td>0</td>\n",
       "      <td>174</td>\n",
       "      <td>0</td>\n",
       "      <td>0.0</td>\n",
       "      <td>1</td>\n",
       "      <td>0</td>\n",
       "      <td>0</td>\n",
       "      <td>1</td>\n",
       "      <td>0</td>\n",
       "      <td>0</td>\n",
       "      <td>0</td>\n",
       "      <td>1</td>\n",
       "      <td>0</td>\n",
       "      <td>0</td>\n",
       "      <td>0</td>\n",
       "      <td>1</td>\n",
       "      <td>0</td>\n",
       "      <td>1</td>\n",
       "      <td>0</td>\n",
       "      <td>0</td>\n",
       "    </tr>\n",
       "  </tbody>\n",
       "</table>\n",
       "<p>302 rows × 24 columns</p>\n",
       "</div>"
      ],
      "text/plain": [
       "     age  sex  trtbps  chol  fbs  thalachh  exng  oldpeak  caa  output  cp_0  \\\n",
       "0     63    1     145   233    1       150     0      2.3    0       1     0   \n",
       "1     37    1     130   250    0       187     0      3.5    0       1     0   \n",
       "2     41    0     130   204    0       172     0      1.4    0       1     0   \n",
       "3     56    1     120   236    0       178     0      0.8    0       1     0   \n",
       "4     57    0     120   354    0       163     1      0.6    0       1     1   \n",
       "..   ...  ...     ...   ...  ...       ...   ...      ...  ...     ...   ...   \n",
       "298   57    0     140   241    0       123     1      0.2    0       0     1   \n",
       "299   45    1     110   264    0       132     0      1.2    0       0     0   \n",
       "300   68    1     144   193    1       141     0      3.4    2       0     1   \n",
       "301   57    1     130   131    0       115     1      1.2    1       0     1   \n",
       "302   57    0     130   236    0       174     0      0.0    1       0     0   \n",
       "\n",
       "     cp_1  cp_2  cp_3  slp_0  slp_1  slp_2  thall_0  thall_1  thall_2  \\\n",
       "0       0     0     1      1      0      0        0        1        0   \n",
       "1       0     1     0      1      0      0        0        0        1   \n",
       "2       1     0     0      0      0      1        0        0        1   \n",
       "3       1     0     0      0      0      1        0        0        1   \n",
       "4       0     0     0      0      0      1        0        0        1   \n",
       "..    ...   ...   ...    ...    ...    ...      ...      ...      ...   \n",
       "298     0     0     0      0      1      0        0        0        0   \n",
       "299     0     0     1      0      1      0        0        0        0   \n",
       "300     0     0     0      0      1      0        0        0        0   \n",
       "301     0     0     0      0      1      0        0        0        0   \n",
       "302     1     0     0      0      1      0        0        0        1   \n",
       "\n",
       "     thall_3  restecg_0  restecg_1  restecg_2  \n",
       "0          0          1          0          0  \n",
       "1          0          0          1          0  \n",
       "2          0          1          0          0  \n",
       "3          0          0          1          0  \n",
       "4          0          0          1          0  \n",
       "..       ...        ...        ...        ...  \n",
       "298        1          0          1          0  \n",
       "299        1          0          1          0  \n",
       "300        1          0          1          0  \n",
       "301        1          0          1          0  \n",
       "302        0          1          0          0  \n",
       "\n",
       "[302 rows x 24 columns]"
      ]
     },
     "execution_count": 23,
     "metadata": {},
     "output_type": "execute_result"
    }
   ],
   "source": [
    "#Our new dataset preview\n",
    "data1"
   ]
  },
  {
   "cell_type": "code",
   "execution_count": 24,
   "id": "c925f627",
   "metadata": {
    "execution": {
     "iopub.execute_input": "2024-03-17T11:22:03.259865Z",
     "iopub.status.busy": "2024-03-17T11:22:03.259203Z",
     "iopub.status.idle": "2024-03-17T11:22:03.810349Z",
     "shell.execute_reply": "2024-03-17T11:22:03.809192Z"
    },
    "papermill": {
     "duration": 0.58477,
     "end_time": "2024-03-17T11:22:03.812714",
     "exception": false,
     "start_time": "2024-03-17T11:22:03.227944",
     "status": "completed"
    },
    "tags": []
   },
   "outputs": [
    {
     "data": {
      "image/png": "[encoded data removed]",
      "text/plain": [
       "<Figure size 1600x600 with 1 Axes>"
      ]
     },
     "metadata": {},
     "output_type": "display_data"
    }
   ],
   "source": [
    "# let's deal with outliers\n",
    "plt.figure(figsize = (16,6))\n",
    "sns.boxplot(data = data1)\n",
    "plt.grid()\n",
    "plt.show()"
   ]
  },
  {
   "cell_type": "code",
   "execution_count": 25,
   "id": "a9b01186",
   "metadata": {
    "execution": {
     "iopub.execute_input": "2024-03-17T11:22:03.875153Z",
     "iopub.status.busy": "2024-03-17T11:22:03.874710Z",
     "iopub.status.idle": "2024-03-17T11:22:03.881519Z",
     "shell.execute_reply": "2024-03-17T11:22:03.880705Z"
    },
    "papermill": {
     "duration": 0.041067,
     "end_time": "2024-03-17T11:22:03.883832",
     "exception": false,
     "start_time": "2024-03-17T11:22:03.842765",
     "status": "completed"
    },
    "tags": []
   },
   "outputs": [],
   "source": [
    "def impute_outliers(data1, colname):\n",
    "    q1 = np.percentile(data1[colname], 25)\n",
    "    q3 = np.percentile(data1[colname], 75) \n",
    "    iqr = q3 - q1\n",
    "    lower_bound = q1 - 1.5*iqr\n",
    "    upper_bound = q3 + 1.5*iqr\n",
    "    \n",
    "    data1.loc[(data1[colname] < lower_bound), colname] = lower_bound\n",
    "    data1.loc[(data1[colname] > upper_bound), colname] = upper_bound"
   ]
  },
  {
   "cell_type": "code",
   "execution_count": 26,
   "id": "c0b85c23",
   "metadata": {
    "execution": {
     "iopub.execute_input": "2024-03-17T11:22:03.947376Z",
     "iopub.status.busy": "2024-03-17T11:22:03.946742Z",
     "iopub.status.idle": "2024-03-17T11:22:03.988781Z",
     "shell.execute_reply": "2024-03-17T11:22:03.987761Z"
    },
    "papermill": {
     "duration": 0.076935,
     "end_time": "2024-03-17T11:22:03.991316",
     "exception": false,
     "start_time": "2024-03-17T11:22:03.914381",
     "status": "completed"
    },
    "tags": []
   },
   "outputs": [],
   "source": [
    "for colname in data1.columns:\n",
    "    impute_outliers(data1, colname)"
   ]
  },
  {
   "cell_type": "code",
   "execution_count": 27,
   "id": "ad6f66d2",
   "metadata": {
    "execution": {
     "iopub.execute_input": "2024-03-17T11:22:04.058041Z",
     "iopub.status.busy": "2024-03-17T11:22:04.057436Z",
     "iopub.status.idle": "2024-03-17T11:22:04.618114Z",
     "shell.execute_reply": "2024-03-17T11:22:04.617031Z"
    },
    "papermill": {
     "duration": 0.597011,
     "end_time": "2024-03-17T11:22:04.621007",
     "exception": false,
     "start_time": "2024-03-17T11:22:04.023996",
     "status": "completed"
    },
    "tags": []
   },
   "outputs": [
    {
     "data": {
      "image/png": "[encoded data removed]",
      "text/plain": [
       "<Figure size 1600x600 with 1 Axes>"
      ]
     },
     "metadata": {},
     "output_type": "display_data"
    }
   ],
   "source": [
    "plt.figure(figsize = (16,6))\n",
    "sns.boxplot(data = data1)\n",
    "plt.grid()\n",
    "plt.show()"
   ]
  },
  {
   "cell_type": "code",
   "execution_count": 28,
   "id": "30838470",
   "metadata": {
    "execution": {
     "iopub.execute_input": "2024-03-17T11:22:04.686044Z",
     "iopub.status.busy": "2024-03-17T11:22:04.685340Z",
     "iopub.status.idle": "2024-03-17T11:22:04.716526Z",
     "shell.execute_reply": "2024-03-17T11:22:04.715425Z"
    },
    "papermill": {
     "duration": 0.066173,
     "end_time": "2024-03-17T11:22:04.718980",
     "exception": false,
     "start_time": "2024-03-17T11:22:04.652807",
     "status": "completed"
    },
    "tags": []
   },
   "outputs": [
    {
     "data": {
      "text/html": [
       "<div>\n",
       "<style scoped>\n",
       "    .dataframe tbody tr th:only-of-type {\n",
       "        vertical-align: middle;\n",
       "    }\n",
       "\n",
       "    .dataframe tbody tr th {\n",
       "        vertical-align: top;\n",
       "    }\n",
       "\n",
       "    .dataframe thead th {\n",
       "        text-align: right;\n",
       "    }\n",
       "</style>\n",
       "<table border=\"1\" class=\"dataframe\">\n",
       "  <thead>\n",
       "    <tr style=\"text-align: right;\">\n",
       "      <th></th>\n",
       "      <th>age</th>\n",
       "      <th>sex</th>\n",
       "      <th>trtbps</th>\n",
       "      <th>chol</th>\n",
       "      <th>fbs</th>\n",
       "      <th>thalachh</th>\n",
       "      <th>exng</th>\n",
       "      <th>oldpeak</th>\n",
       "      <th>caa</th>\n",
       "      <th>output</th>\n",
       "      <th>cp_0</th>\n",
       "      <th>cp_1</th>\n",
       "      <th>cp_2</th>\n",
       "      <th>cp_3</th>\n",
       "      <th>slp_0</th>\n",
       "      <th>slp_1</th>\n",
       "      <th>slp_2</th>\n",
       "      <th>thall_0</th>\n",
       "      <th>thall_1</th>\n",
       "      <th>thall_2</th>\n",
       "      <th>thall_3</th>\n",
       "      <th>restecg_0</th>\n",
       "      <th>restecg_1</th>\n",
       "      <th>restecg_2</th>\n",
       "    </tr>\n",
       "  </thead>\n",
       "  <tbody>\n",
       "    <tr>\n",
       "      <th>0</th>\n",
       "      <td>63.0</td>\n",
       "      <td>1.0</td>\n",
       "      <td>145</td>\n",
       "      <td>233.0</td>\n",
       "      <td>0</td>\n",
       "      <td>150.0</td>\n",
       "      <td>0.0</td>\n",
       "      <td>2.3</td>\n",
       "      <td>0.0</td>\n",
       "      <td>1.0</td>\n",
       "      <td>0.0</td>\n",
       "      <td>0</td>\n",
       "      <td>0.0</td>\n",
       "      <td>0</td>\n",
       "      <td>0</td>\n",
       "      <td>0.0</td>\n",
       "      <td>0.0</td>\n",
       "      <td>0</td>\n",
       "      <td>0</td>\n",
       "      <td>0.0</td>\n",
       "      <td>0.0</td>\n",
       "      <td>1.0</td>\n",
       "      <td>0.0</td>\n",
       "      <td>0</td>\n",
       "    </tr>\n",
       "    <tr>\n",
       "      <th>1</th>\n",
       "      <td>37.0</td>\n",
       "      <td>1.0</td>\n",
       "      <td>130</td>\n",
       "      <td>250.0</td>\n",
       "      <td>0</td>\n",
       "      <td>187.0</td>\n",
       "      <td>0.0</td>\n",
       "      <td>3.5</td>\n",
       "      <td>0.0</td>\n",
       "      <td>1.0</td>\n",
       "      <td>0.0</td>\n",
       "      <td>0</td>\n",
       "      <td>1.0</td>\n",
       "      <td>0</td>\n",
       "      <td>0</td>\n",
       "      <td>0.0</td>\n",
       "      <td>0.0</td>\n",
       "      <td>0</td>\n",
       "      <td>0</td>\n",
       "      <td>1.0</td>\n",
       "      <td>0.0</td>\n",
       "      <td>0.0</td>\n",
       "      <td>1.0</td>\n",
       "      <td>0</td>\n",
       "    </tr>\n",
       "    <tr>\n",
       "      <th>2</th>\n",
       "      <td>41.0</td>\n",
       "      <td>0.0</td>\n",
       "      <td>130</td>\n",
       "      <td>204.0</td>\n",
       "      <td>0</td>\n",
       "      <td>172.0</td>\n",
       "      <td>0.0</td>\n",
       "      <td>1.4</td>\n",
       "      <td>0.0</td>\n",
       "      <td>1.0</td>\n",
       "      <td>0.0</td>\n",
       "      <td>0</td>\n",
       "      <td>0.0</td>\n",
       "      <td>0</td>\n",
       "      <td>0</td>\n",
       "      <td>0.0</td>\n",
       "      <td>1.0</td>\n",
       "      <td>0</td>\n",
       "      <td>0</td>\n",
       "      <td>1.0</td>\n",
       "      <td>0.0</td>\n",
       "      <td>1.0</td>\n",
       "      <td>0.0</td>\n",
       "      <td>0</td>\n",
       "    </tr>\n",
       "    <tr>\n",
       "      <th>3</th>\n",
       "      <td>56.0</td>\n",
       "      <td>1.0</td>\n",
       "      <td>120</td>\n",
       "      <td>236.0</td>\n",
       "      <td>0</td>\n",
       "      <td>178.0</td>\n",
       "      <td>0.0</td>\n",
       "      <td>0.8</td>\n",
       "      <td>0.0</td>\n",
       "      <td>1.0</td>\n",
       "      <td>0.0</td>\n",
       "      <td>0</td>\n",
       "      <td>0.0</td>\n",
       "      <td>0</td>\n",
       "      <td>0</td>\n",
       "      <td>0.0</td>\n",
       "      <td>1.0</td>\n",
       "      <td>0</td>\n",
       "      <td>0</td>\n",
       "      <td>1.0</td>\n",
       "      <td>0.0</td>\n",
       "      <td>0.0</td>\n",
       "      <td>1.0</td>\n",
       "      <td>0</td>\n",
       "    </tr>\n",
       "    <tr>\n",
       "      <th>4</th>\n",
       "      <td>57.0</td>\n",
       "      <td>0.0</td>\n",
       "      <td>120</td>\n",
       "      <td>354.0</td>\n",
       "      <td>0</td>\n",
       "      <td>163.0</td>\n",
       "      <td>1.0</td>\n",
       "      <td>0.6</td>\n",
       "      <td>0.0</td>\n",
       "      <td>1.0</td>\n",
       "      <td>1.0</td>\n",
       "      <td>0</td>\n",
       "      <td>0.0</td>\n",
       "      <td>0</td>\n",
       "      <td>0</td>\n",
       "      <td>0.0</td>\n",
       "      <td>1.0</td>\n",
       "      <td>0</td>\n",
       "      <td>0</td>\n",
       "      <td>1.0</td>\n",
       "      <td>0.0</td>\n",
       "      <td>0.0</td>\n",
       "      <td>1.0</td>\n",
       "      <td>0</td>\n",
       "    </tr>\n",
       "  </tbody>\n",
       "</table>\n",
       "</div>"
      ],
      "text/plain": [
       "    age  sex  trtbps   chol  fbs  thalachh  exng  oldpeak  caa  output  cp_0  \\\n",
       "0  63.0  1.0     145  233.0    0     150.0   0.0      2.3  0.0     1.0   0.0   \n",
       "1  37.0  1.0     130  250.0    0     187.0   0.0      3.5  0.0     1.0   0.0   \n",
       "2  41.0  0.0     130  204.0    0     172.0   0.0      1.4  0.0     1.0   0.0   \n",
       "3  56.0  1.0     120  236.0    0     178.0   0.0      0.8  0.0     1.0   0.0   \n",
       "4  57.0  0.0     120  354.0    0     163.0   1.0      0.6  0.0     1.0   1.0   \n",
       "\n",
       "   cp_1  cp_2  cp_3  slp_0  slp_1  slp_2  thall_0  thall_1  thall_2  thall_3  \\\n",
       "0     0   0.0     0      0    0.0    0.0        0        0      0.0      0.0   \n",
       "1     0   1.0     0      0    0.0    0.0        0        0      1.0      0.0   \n",
       "2     0   0.0     0      0    0.0    1.0        0        0      1.0      0.0   \n",
       "3     0   0.0     0      0    0.0    1.0        0        0      1.0      0.0   \n",
       "4     0   0.0     0      0    0.0    1.0        0        0      1.0      0.0   \n",
       "\n",
       "   restecg_0  restecg_1  restecg_2  \n",
       "0        1.0        0.0          0  \n",
       "1        0.0        1.0          0  \n",
       "2        1.0        0.0          0  \n",
       "3        0.0        1.0          0  \n",
       "4        0.0        1.0          0  "
      ]
     },
     "execution_count": 28,
     "metadata": {},
     "output_type": "execute_result"
    }
   ],
   "source": [
    "data1.head()"
   ]
  },
  {
   "cell_type": "code",
   "execution_count": 29,
   "id": "c8fb6c83",
   "metadata": {
    "execution": {
     "iopub.execute_input": "2024-03-17T11:22:04.783870Z",
     "iopub.status.busy": "2024-03-17T11:22:04.783251Z",
     "iopub.status.idle": "2024-03-17T11:22:04.791891Z",
     "shell.execute_reply": "2024-03-17T11:22:04.791049Z"
    },
    "papermill": {
     "duration": 0.043731,
     "end_time": "2024-03-17T11:22:04.794228",
     "exception": false,
     "start_time": "2024-03-17T11:22:04.750497",
     "status": "completed"
    },
    "tags": []
   },
   "outputs": [],
   "source": [
    "#We convert all our variable into Int type\n",
    "df_new = data1.apply(lambda column: column.astype(int))\n"
   ]
  },
  {
   "cell_type": "code",
   "execution_count": 30,
   "id": "743f33fc",
   "metadata": {
    "execution": {
     "iopub.execute_input": "2024-03-17T11:22:04.859103Z",
     "iopub.status.busy": "2024-03-17T11:22:04.858454Z",
     "iopub.status.idle": "2024-03-17T11:22:04.880126Z",
     "shell.execute_reply": "2024-03-17T11:22:04.879222Z"
    },
    "papermill": {
     "duration": 0.056611,
     "end_time": "2024-03-17T11:22:04.882334",
     "exception": false,
     "start_time": "2024-03-17T11:22:04.825723",
     "status": "completed"
    },
    "tags": []
   },
   "outputs": [
    {
     "data": {
      "text/html": [
       "<div>\n",
       "<style scoped>\n",
       "    .dataframe tbody tr th:only-of-type {\n",
       "        vertical-align: middle;\n",
       "    }\n",
       "\n",
       "    .dataframe tbody tr th {\n",
       "        vertical-align: top;\n",
       "    }\n",
       "\n",
       "    .dataframe thead th {\n",
       "        text-align: right;\n",
       "    }\n",
       "</style>\n",
       "<table border=\"1\" class=\"dataframe\">\n",
       "  <thead>\n",
       "    <tr style=\"text-align: right;\">\n",
       "      <th></th>\n",
       "      <th>age</th>\n",
       "      <th>sex</th>\n",
       "      <th>trtbps</th>\n",
       "      <th>chol</th>\n",
       "      <th>fbs</th>\n",
       "      <th>thalachh</th>\n",
       "      <th>exng</th>\n",
       "      <th>oldpeak</th>\n",
       "      <th>caa</th>\n",
       "      <th>output</th>\n",
       "      <th>cp_0</th>\n",
       "      <th>cp_1</th>\n",
       "      <th>cp_2</th>\n",
       "      <th>cp_3</th>\n",
       "      <th>slp_0</th>\n",
       "      <th>slp_1</th>\n",
       "      <th>slp_2</th>\n",
       "      <th>thall_0</th>\n",
       "      <th>thall_1</th>\n",
       "      <th>thall_2</th>\n",
       "      <th>thall_3</th>\n",
       "      <th>restecg_0</th>\n",
       "      <th>restecg_1</th>\n",
       "      <th>restecg_2</th>\n",
       "    </tr>\n",
       "  </thead>\n",
       "  <tbody>\n",
       "    <tr>\n",
       "      <th>0</th>\n",
       "      <td>63</td>\n",
       "      <td>1</td>\n",
       "      <td>145</td>\n",
       "      <td>233</td>\n",
       "      <td>0</td>\n",
       "      <td>150</td>\n",
       "      <td>0</td>\n",
       "      <td>2</td>\n",
       "      <td>0</td>\n",
       "      <td>1</td>\n",
       "      <td>0</td>\n",
       "      <td>0</td>\n",
       "      <td>0</td>\n",
       "      <td>0</td>\n",
       "      <td>0</td>\n",
       "      <td>0</td>\n",
       "      <td>0</td>\n",
       "      <td>0</td>\n",
       "      <td>0</td>\n",
       "      <td>0</td>\n",
       "      <td>0</td>\n",
       "      <td>1</td>\n",
       "      <td>0</td>\n",
       "      <td>0</td>\n",
       "    </tr>\n",
       "    <tr>\n",
       "      <th>1</th>\n",
       "      <td>37</td>\n",
       "      <td>1</td>\n",
       "      <td>130</td>\n",
       "      <td>250</td>\n",
       "      <td>0</td>\n",
       "      <td>187</td>\n",
       "      <td>0</td>\n",
       "      <td>3</td>\n",
       "      <td>0</td>\n",
       "      <td>1</td>\n",
       "      <td>0</td>\n",
       "      <td>0</td>\n",
       "      <td>1</td>\n",
       "      <td>0</td>\n",
       "      <td>0</td>\n",
       "      <td>0</td>\n",
       "      <td>0</td>\n",
       "      <td>0</td>\n",
       "      <td>0</td>\n",
       "      <td>1</td>\n",
       "      <td>0</td>\n",
       "      <td>0</td>\n",
       "      <td>1</td>\n",
       "      <td>0</td>\n",
       "    </tr>\n",
       "    <tr>\n",
       "      <th>2</th>\n",
       "      <td>41</td>\n",
       "      <td>0</td>\n",
       "      <td>130</td>\n",
       "      <td>204</td>\n",
       "      <td>0</td>\n",
       "      <td>172</td>\n",
       "      <td>0</td>\n",
       "      <td>1</td>\n",
       "      <td>0</td>\n",
       "      <td>1</td>\n",
       "      <td>0</td>\n",
       "      <td>0</td>\n",
       "      <td>0</td>\n",
       "      <td>0</td>\n",
       "      <td>0</td>\n",
       "      <td>0</td>\n",
       "      <td>1</td>\n",
       "      <td>0</td>\n",
       "      <td>0</td>\n",
       "      <td>1</td>\n",
       "      <td>0</td>\n",
       "      <td>1</td>\n",
       "      <td>0</td>\n",
       "      <td>0</td>\n",
       "    </tr>\n",
       "    <tr>\n",
       "      <th>3</th>\n",
       "      <td>56</td>\n",
       "      <td>1</td>\n",
       "      <td>120</td>\n",
       "      <td>236</td>\n",
       "      <td>0</td>\n",
       "      <td>178</td>\n",
       "      <td>0</td>\n",
       "      <td>0</td>\n",
       "      <td>0</td>\n",
       "      <td>1</td>\n",
       "      <td>0</td>\n",
       "      <td>0</td>\n",
       "      <td>0</td>\n",
       "      <td>0</td>\n",
       "      <td>0</td>\n",
       "      <td>0</td>\n",
       "      <td>1</td>\n",
       "      <td>0</td>\n",
       "      <td>0</td>\n",
       "      <td>1</td>\n",
       "      <td>0</td>\n",
       "      <td>0</td>\n",
       "      <td>1</td>\n",
       "      <td>0</td>\n",
       "    </tr>\n",
       "    <tr>\n",
       "      <th>4</th>\n",
       "      <td>57</td>\n",
       "      <td>0</td>\n",
       "      <td>120</td>\n",
       "      <td>354</td>\n",
       "      <td>0</td>\n",
       "      <td>163</td>\n",
       "      <td>1</td>\n",
       "      <td>0</td>\n",
       "      <td>0</td>\n",
       "      <td>1</td>\n",
       "      <td>1</td>\n",
       "      <td>0</td>\n",
       "      <td>0</td>\n",
       "      <td>0</td>\n",
       "      <td>0</td>\n",
       "      <td>0</td>\n",
       "      <td>1</td>\n",
       "      <td>0</td>\n",
       "      <td>0</td>\n",
       "      <td>1</td>\n",
       "      <td>0</td>\n",
       "      <td>0</td>\n",
       "      <td>1</td>\n",
       "      <td>0</td>\n",
       "    </tr>\n",
       "    <tr>\n",
       "      <th>...</th>\n",
       "      <td>...</td>\n",
       "      <td>...</td>\n",
       "      <td>...</td>\n",
       "      <td>...</td>\n",
       "      <td>...</td>\n",
       "      <td>...</td>\n",
       "      <td>...</td>\n",
       "      <td>...</td>\n",
       "      <td>...</td>\n",
       "      <td>...</td>\n",
       "      <td>...</td>\n",
       "      <td>...</td>\n",
       "      <td>...</td>\n",
       "      <td>...</td>\n",
       "      <td>...</td>\n",
       "      <td>...</td>\n",
       "      <td>...</td>\n",
       "      <td>...</td>\n",
       "      <td>...</td>\n",
       "      <td>...</td>\n",
       "      <td>...</td>\n",
       "      <td>...</td>\n",
       "      <td>...</td>\n",
       "      <td>...</td>\n",
       "    </tr>\n",
       "    <tr>\n",
       "      <th>298</th>\n",
       "      <td>57</td>\n",
       "      <td>0</td>\n",
       "      <td>140</td>\n",
       "      <td>241</td>\n",
       "      <td>0</td>\n",
       "      <td>123</td>\n",
       "      <td>1</td>\n",
       "      <td>0</td>\n",
       "      <td>0</td>\n",
       "      <td>0</td>\n",
       "      <td>1</td>\n",
       "      <td>0</td>\n",
       "      <td>0</td>\n",
       "      <td>0</td>\n",
       "      <td>0</td>\n",
       "      <td>1</td>\n",
       "      <td>0</td>\n",
       "      <td>0</td>\n",
       "      <td>0</td>\n",
       "      <td>0</td>\n",
       "      <td>1</td>\n",
       "      <td>0</td>\n",
       "      <td>1</td>\n",
       "      <td>0</td>\n",
       "    </tr>\n",
       "    <tr>\n",
       "      <th>299</th>\n",
       "      <td>45</td>\n",
       "      <td>1</td>\n",
       "      <td>110</td>\n",
       "      <td>264</td>\n",
       "      <td>0</td>\n",
       "      <td>132</td>\n",
       "      <td>0</td>\n",
       "      <td>1</td>\n",
       "      <td>0</td>\n",
       "      <td>0</td>\n",
       "      <td>0</td>\n",
       "      <td>0</td>\n",
       "      <td>0</td>\n",
       "      <td>0</td>\n",
       "      <td>0</td>\n",
       "      <td>1</td>\n",
       "      <td>0</td>\n",
       "      <td>0</td>\n",
       "      <td>0</td>\n",
       "      <td>0</td>\n",
       "      <td>1</td>\n",
       "      <td>0</td>\n",
       "      <td>1</td>\n",
       "      <td>0</td>\n",
       "    </tr>\n",
       "    <tr>\n",
       "      <th>300</th>\n",
       "      <td>68</td>\n",
       "      <td>1</td>\n",
       "      <td>144</td>\n",
       "      <td>193</td>\n",
       "      <td>0</td>\n",
       "      <td>141</td>\n",
       "      <td>0</td>\n",
       "      <td>3</td>\n",
       "      <td>2</td>\n",
       "      <td>0</td>\n",
       "      <td>1</td>\n",
       "      <td>0</td>\n",
       "      <td>0</td>\n",
       "      <td>0</td>\n",
       "      <td>0</td>\n",
       "      <td>1</td>\n",
       "      <td>0</td>\n",
       "      <td>0</td>\n",
       "      <td>0</td>\n",
       "      <td>0</td>\n",
       "      <td>1</td>\n",
       "      <td>0</td>\n",
       "      <td>1</td>\n",
       "      <td>0</td>\n",
       "    </tr>\n",
       "    <tr>\n",
       "      <th>301</th>\n",
       "      <td>57</td>\n",
       "      <td>1</td>\n",
       "      <td>130</td>\n",
       "      <td>131</td>\n",
       "      <td>0</td>\n",
       "      <td>115</td>\n",
       "      <td>1</td>\n",
       "      <td>1</td>\n",
       "      <td>1</td>\n",
       "      <td>0</td>\n",
       "      <td>1</td>\n",
       "      <td>0</td>\n",
       "      <td>0</td>\n",
       "      <td>0</td>\n",
       "      <td>0</td>\n",
       "      <td>1</td>\n",
       "      <td>0</td>\n",
       "      <td>0</td>\n",
       "      <td>0</td>\n",
       "      <td>0</td>\n",
       "      <td>1</td>\n",
       "      <td>0</td>\n",
       "      <td>1</td>\n",
       "      <td>0</td>\n",
       "    </tr>\n",
       "    <tr>\n",
       "      <th>302</th>\n",
       "      <td>57</td>\n",
       "      <td>0</td>\n",
       "      <td>130</td>\n",
       "      <td>236</td>\n",
       "      <td>0</td>\n",
       "      <td>174</td>\n",
       "      <td>0</td>\n",
       "      <td>0</td>\n",
       "      <td>1</td>\n",
       "      <td>0</td>\n",
       "      <td>0</td>\n",
       "      <td>0</td>\n",
       "      <td>0</td>\n",
       "      <td>0</td>\n",
       "      <td>0</td>\n",
       "      <td>1</td>\n",
       "      <td>0</td>\n",
       "      <td>0</td>\n",
       "      <td>0</td>\n",
       "      <td>1</td>\n",
       "      <td>0</td>\n",
       "      <td>1</td>\n",
       "      <td>0</td>\n",
       "      <td>0</td>\n",
       "    </tr>\n",
       "  </tbody>\n",
       "</table>\n",
       "<p>302 rows × 24 columns</p>\n",
       "</div>"
      ],
      "text/plain": [
       "     age  sex  trtbps  chol  fbs  thalachh  exng  oldpeak  caa  output  cp_0  \\\n",
       "0     63    1     145   233    0       150     0        2    0       1     0   \n",
       "1     37    1     130   250    0       187     0        3    0       1     0   \n",
       "2     41    0     130   204    0       172     0        1    0       1     0   \n",
       "3     56    1     120   236    0       178     0        0    0       1     0   \n",
       "4     57    0     120   354    0       163     1        0    0       1     1   \n",
       "..   ...  ...     ...   ...  ...       ...   ...      ...  ...     ...   ...   \n",
       "298   57    0     140   241    0       123     1        0    0       0     1   \n",
       "299   45    1     110   264    0       132     0        1    0       0     0   \n",
       "300   68    1     144   193    0       141     0        3    2       0     1   \n",
       "301   57    1     130   131    0       115     1        1    1       0     1   \n",
       "302   57    0     130   236    0       174     0        0    1       0     0   \n",
       "\n",
       "     cp_1  cp_2  cp_3  slp_0  slp_1  slp_2  thall_0  thall_1  thall_2  \\\n",
       "0       0     0     0      0      0      0        0        0        0   \n",
       "1       0     1     0      0      0      0        0        0        1   \n",
       "2       0     0     0      0      0      1        0        0        1   \n",
       "3       0     0     0      0      0      1        0        0        1   \n",
       "4       0     0     0      0      0      1        0        0        1   \n",
       "..    ...   ...   ...    ...    ...    ...      ...      ...      ...   \n",
       "298     0     0     0      0      1      0        0        0        0   \n",
       "299     0     0     0      0      1      0        0        0        0   \n",
       "300     0     0     0      0      1      0        0        0        0   \n",
       "301     0     0     0      0      1      0        0        0        0   \n",
       "302     0     0     0      0      1      0        0        0        1   \n",
       "\n",
       "     thall_3  restecg_0  restecg_1  restecg_2  \n",
       "0          0          1          0          0  \n",
       "1          0          0          1          0  \n",
       "2          0          1          0          0  \n",
       "3          0          0          1          0  \n",
       "4          0          0          1          0  \n",
       "..       ...        ...        ...        ...  \n",
       "298        1          0          1          0  \n",
       "299        1          0          1          0  \n",
       "300        1          0          1          0  \n",
       "301        1          0          1          0  \n",
       "302        0          1          0          0  \n",
       "\n",
       "[302 rows x 24 columns]"
      ]
     },
     "execution_count": 30,
     "metadata": {},
     "output_type": "execute_result"
    }
   ],
   "source": [
    "df_new"
   ]
  },
  {
   "cell_type": "code",
   "execution_count": 31,
   "id": "a4bba352",
   "metadata": {
    "execution": {
     "iopub.execute_input": "2024-03-17T11:22:04.950958Z",
     "iopub.status.busy": "2024-03-17T11:22:04.950254Z",
     "iopub.status.idle": "2024-03-17T11:22:05.136932Z",
     "shell.execute_reply": "2024-03-17T11:22:05.135755Z"
    },
    "papermill": {
     "duration": 0.224962,
     "end_time": "2024-03-17T11:22:05.139616",
     "exception": false,
     "start_time": "2024-03-17T11:22:04.914654",
     "status": "completed"
    },
    "tags": []
   },
   "outputs": [],
   "source": [
    "# We import our libraries\n",
    "\n",
    "from sklearn.model_selection import train_test_split\n",
    "from sklearn.linear_model import LogisticRegression\n",
    "from sklearn.dummy import DummyClassifier\n",
    "from sklearn.tree import DecisionTreeClassifier\n",
    "from sklearn.ensemble import RandomForestClassifier\n",
    "from sklearn.neighbors import KNeighborsClassifier\n",
    "from sklearn.linear_model import SGDClassifier\n",
    "from sklearn.metrics import confusion_matrix, classification_report\n",
    "from sklearn.preprocessing import StandardScaler\n",
    "from sklearn.preprocessing import MinMaxScaler\n",
    "from sklearn.pipeline import make_pipeline\n",
    "from sklearn.model_selection import GridSearchCV\n",
    "from sklearn. preprocessing import PolynomialFeatures\n"
   ]
  },
  {
   "cell_type": "code",
   "execution_count": 32,
   "id": "be23665d",
   "metadata": {
    "execution": {
     "iopub.execute_input": "2024-03-17T11:22:05.205748Z",
     "iopub.status.busy": "2024-03-17T11:22:05.205312Z",
     "iopub.status.idle": "2024-03-17T11:22:05.211313Z",
     "shell.execute_reply": "2024-03-17T11:22:05.210503Z"
    },
    "papermill": {
     "duration": 0.041674,
     "end_time": "2024-03-17T11:22:05.213406",
     "exception": false,
     "start_time": "2024-03-17T11:22:05.171732",
     "status": "completed"
    },
    "tags": []
   },
   "outputs": [],
   "source": [
    "x = df_new.drop('output', axis = 1)\n",
    "y = df_new['output']"
   ]
  },
  {
   "cell_type": "code",
   "execution_count": 33,
   "id": "2feaf757",
   "metadata": {
    "execution": {
     "iopub.execute_input": "2024-03-17T11:22:05.279855Z",
     "iopub.status.busy": "2024-03-17T11:22:05.279418Z",
     "iopub.status.idle": "2024-03-17T11:22:05.302589Z",
     "shell.execute_reply": "2024-03-17T11:22:05.301380Z"
    },
    "papermill": {
     "duration": 0.059603,
     "end_time": "2024-03-17T11:22:05.305115",
     "exception": false,
     "start_time": "2024-03-17T11:22:05.245512",
     "status": "completed"
    },
    "tags": []
   },
   "outputs": [
    {
     "data": {
      "text/html": [
       "<div>\n",
       "<style scoped>\n",
       "    .dataframe tbody tr th:only-of-type {\n",
       "        vertical-align: middle;\n",
       "    }\n",
       "\n",
       "    .dataframe tbody tr th {\n",
       "        vertical-align: top;\n",
       "    }\n",
       "\n",
       "    .dataframe thead th {\n",
       "        text-align: right;\n",
       "    }\n",
       "</style>\n",
       "<table border=\"1\" class=\"dataframe\">\n",
       "  <thead>\n",
       "    <tr style=\"text-align: right;\">\n",
       "      <th></th>\n",
       "      <th>age</th>\n",
       "      <th>sex</th>\n",
       "      <th>trtbps</th>\n",
       "      <th>chol</th>\n",
       "      <th>fbs</th>\n",
       "      <th>thalachh</th>\n",
       "      <th>exng</th>\n",
       "      <th>oldpeak</th>\n",
       "      <th>caa</th>\n",
       "      <th>cp_0</th>\n",
       "      <th>cp_1</th>\n",
       "      <th>cp_2</th>\n",
       "      <th>cp_3</th>\n",
       "      <th>slp_0</th>\n",
       "      <th>slp_1</th>\n",
       "      <th>slp_2</th>\n",
       "      <th>thall_0</th>\n",
       "      <th>thall_1</th>\n",
       "      <th>thall_2</th>\n",
       "      <th>thall_3</th>\n",
       "      <th>restecg_0</th>\n",
       "      <th>restecg_1</th>\n",
       "      <th>restecg_2</th>\n",
       "    </tr>\n",
       "  </thead>\n",
       "  <tbody>\n",
       "    <tr>\n",
       "      <th>0</th>\n",
       "      <td>63</td>\n",
       "      <td>1</td>\n",
       "      <td>145</td>\n",
       "      <td>233</td>\n",
       "      <td>0</td>\n",
       "      <td>150</td>\n",
       "      <td>0</td>\n",
       "      <td>2</td>\n",
       "      <td>0</td>\n",
       "      <td>0</td>\n",
       "      <td>0</td>\n",
       "      <td>0</td>\n",
       "      <td>0</td>\n",
       "      <td>0</td>\n",
       "      <td>0</td>\n",
       "      <td>0</td>\n",
       "      <td>0</td>\n",
       "      <td>0</td>\n",
       "      <td>0</td>\n",
       "      <td>0</td>\n",
       "      <td>1</td>\n",
       "      <td>0</td>\n",
       "      <td>0</td>\n",
       "    </tr>\n",
       "    <tr>\n",
       "      <th>1</th>\n",
       "      <td>37</td>\n",
       "      <td>1</td>\n",
       "      <td>130</td>\n",
       "      <td>250</td>\n",
       "      <td>0</td>\n",
       "      <td>187</td>\n",
       "      <td>0</td>\n",
       "      <td>3</td>\n",
       "      <td>0</td>\n",
       "      <td>0</td>\n",
       "      <td>0</td>\n",
       "      <td>1</td>\n",
       "      <td>0</td>\n",
       "      <td>0</td>\n",
       "      <td>0</td>\n",
       "      <td>0</td>\n",
       "      <td>0</td>\n",
       "      <td>0</td>\n",
       "      <td>1</td>\n",
       "      <td>0</td>\n",
       "      <td>0</td>\n",
       "      <td>1</td>\n",
       "      <td>0</td>\n",
       "    </tr>\n",
       "    <tr>\n",
       "      <th>2</th>\n",
       "      <td>41</td>\n",
       "      <td>0</td>\n",
       "      <td>130</td>\n",
       "      <td>204</td>\n",
       "      <td>0</td>\n",
       "      <td>172</td>\n",
       "      <td>0</td>\n",
       "      <td>1</td>\n",
       "      <td>0</td>\n",
       "      <td>0</td>\n",
       "      <td>0</td>\n",
       "      <td>0</td>\n",
       "      <td>0</td>\n",
       "      <td>0</td>\n",
       "      <td>0</td>\n",
       "      <td>1</td>\n",
       "      <td>0</td>\n",
       "      <td>0</td>\n",
       "      <td>1</td>\n",
       "      <td>0</td>\n",
       "      <td>1</td>\n",
       "      <td>0</td>\n",
       "      <td>0</td>\n",
       "    </tr>\n",
       "    <tr>\n",
       "      <th>3</th>\n",
       "      <td>56</td>\n",
       "      <td>1</td>\n",
       "      <td>120</td>\n",
       "      <td>236</td>\n",
       "      <td>0</td>\n",
       "      <td>178</td>\n",
       "      <td>0</td>\n",
       "      <td>0</td>\n",
       "      <td>0</td>\n",
       "      <td>0</td>\n",
       "      <td>0</td>\n",
       "      <td>0</td>\n",
       "      <td>0</td>\n",
       "      <td>0</td>\n",
       "      <td>0</td>\n",
       "      <td>1</td>\n",
       "      <td>0</td>\n",
       "      <td>0</td>\n",
       "      <td>1</td>\n",
       "      <td>0</td>\n",
       "      <td>0</td>\n",
       "      <td>1</td>\n",
       "      <td>0</td>\n",
       "    </tr>\n",
       "    <tr>\n",
       "      <th>4</th>\n",
       "      <td>57</td>\n",
       "      <td>0</td>\n",
       "      <td>120</td>\n",
       "      <td>354</td>\n",
       "      <td>0</td>\n",
       "      <td>163</td>\n",
       "      <td>1</td>\n",
       "      <td>0</td>\n",
       "      <td>0</td>\n",
       "      <td>1</td>\n",
       "      <td>0</td>\n",
       "      <td>0</td>\n",
       "      <td>0</td>\n",
       "      <td>0</td>\n",
       "      <td>0</td>\n",
       "      <td>1</td>\n",
       "      <td>0</td>\n",
       "      <td>0</td>\n",
       "      <td>1</td>\n",
       "      <td>0</td>\n",
       "      <td>0</td>\n",
       "      <td>1</td>\n",
       "      <td>0</td>\n",
       "    </tr>\n",
       "    <tr>\n",
       "      <th>...</th>\n",
       "      <td>...</td>\n",
       "      <td>...</td>\n",
       "      <td>...</td>\n",
       "      <td>...</td>\n",
       "      <td>...</td>\n",
       "      <td>...</td>\n",
       "      <td>...</td>\n",
       "      <td>...</td>\n",
       "      <td>...</td>\n",
       "      <td>...</td>\n",
       "      <td>...</td>\n",
       "      <td>...</td>\n",
       "      <td>...</td>\n",
       "      <td>...</td>\n",
       "      <td>...</td>\n",
       "      <td>...</td>\n",
       "      <td>...</td>\n",
       "      <td>...</td>\n",
       "      <td>...</td>\n",
       "      <td>...</td>\n",
       "      <td>...</td>\n",
       "      <td>...</td>\n",
       "      <td>...</td>\n",
       "    </tr>\n",
       "    <tr>\n",
       "      <th>298</th>\n",
       "      <td>57</td>\n",
       "      <td>0</td>\n",
       "      <td>140</td>\n",
       "      <td>241</td>\n",
       "      <td>0</td>\n",
       "      <td>123</td>\n",
       "      <td>1</td>\n",
       "      <td>0</td>\n",
       "      <td>0</td>\n",
       "      <td>1</td>\n",
       "      <td>0</td>\n",
       "      <td>0</td>\n",
       "      <td>0</td>\n",
       "      <td>0</td>\n",
       "      <td>1</td>\n",
       "      <td>0</td>\n",
       "      <td>0</td>\n",
       "      <td>0</td>\n",
       "      <td>0</td>\n",
       "      <td>1</td>\n",
       "      <td>0</td>\n",
       "      <td>1</td>\n",
       "      <td>0</td>\n",
       "    </tr>\n",
       "    <tr>\n",
       "      <th>299</th>\n",
       "      <td>45</td>\n",
       "      <td>1</td>\n",
       "      <td>110</td>\n",
       "      <td>264</td>\n",
       "      <td>0</td>\n",
       "      <td>132</td>\n",
       "      <td>0</td>\n",
       "      <td>1</td>\n",
       "      <td>0</td>\n",
       "      <td>0</td>\n",
       "      <td>0</td>\n",
       "      <td>0</td>\n",
       "      <td>0</td>\n",
       "      <td>0</td>\n",
       "      <td>1</td>\n",
       "      <td>0</td>\n",
       "      <td>0</td>\n",
       "      <td>0</td>\n",
       "      <td>0</td>\n",
       "      <td>1</td>\n",
       "      <td>0</td>\n",
       "      <td>1</td>\n",
       "      <td>0</td>\n",
       "    </tr>\n",
       "    <tr>\n",
       "      <th>300</th>\n",
       "      <td>68</td>\n",
       "      <td>1</td>\n",
       "      <td>144</td>\n",
       "      <td>193</td>\n",
       "      <td>0</td>\n",
       "      <td>141</td>\n",
       "      <td>0</td>\n",
       "      <td>3</td>\n",
       "      <td>2</td>\n",
       "      <td>1</td>\n",
       "      <td>0</td>\n",
       "      <td>0</td>\n",
       "      <td>0</td>\n",
       "      <td>0</td>\n",
       "      <td>1</td>\n",
       "      <td>0</td>\n",
       "      <td>0</td>\n",
       "      <td>0</td>\n",
       "      <td>0</td>\n",
       "      <td>1</td>\n",
       "      <td>0</td>\n",
       "      <td>1</td>\n",
       "      <td>0</td>\n",
       "    </tr>\n",
       "    <tr>\n",
       "      <th>301</th>\n",
       "      <td>57</td>\n",
       "      <td>1</td>\n",
       "      <td>130</td>\n",
       "      <td>131</td>\n",
       "      <td>0</td>\n",
       "      <td>115</td>\n",
       "      <td>1</td>\n",
       "      <td>1</td>\n",
       "      <td>1</td>\n",
       "      <td>1</td>\n",
       "      <td>0</td>\n",
       "      <td>0</td>\n",
       "      <td>0</td>\n",
       "      <td>0</td>\n",
       "      <td>1</td>\n",
       "      <td>0</td>\n",
       "      <td>0</td>\n",
       "      <td>0</td>\n",
       "      <td>0</td>\n",
       "      <td>1</td>\n",
       "      <td>0</td>\n",
       "      <td>1</td>\n",
       "      <td>0</td>\n",
       "    </tr>\n",
       "    <tr>\n",
       "      <th>302</th>\n",
       "      <td>57</td>\n",
       "      <td>0</td>\n",
       "      <td>130</td>\n",
       "      <td>236</td>\n",
       "      <td>0</td>\n",
       "      <td>174</td>\n",
       "      <td>0</td>\n",
       "      <td>0</td>\n",
       "      <td>1</td>\n",
       "      <td>0</td>\n",
       "      <td>0</td>\n",
       "      <td>0</td>\n",
       "      <td>0</td>\n",
       "      <td>0</td>\n",
       "      <td>1</td>\n",
       "      <td>0</td>\n",
       "      <td>0</td>\n",
       "      <td>0</td>\n",
       "      <td>1</td>\n",
       "      <td>0</td>\n",
       "      <td>1</td>\n",
       "      <td>0</td>\n",
       "      <td>0</td>\n",
       "    </tr>\n",
       "  </tbody>\n",
       "</table>\n",
       "<p>302 rows × 23 columns</p>\n",
       "</div>"
      ],
      "text/plain": [
       "     age  sex  trtbps  chol  fbs  thalachh  exng  oldpeak  caa  cp_0  cp_1  \\\n",
       "0     63    1     145   233    0       150     0        2    0     0     0   \n",
       "1     37    1     130   250    0       187     0        3    0     0     0   \n",
       "2     41    0     130   204    0       172     0        1    0     0     0   \n",
       "3     56    1     120   236    0       178     0        0    0     0     0   \n",
       "4     57    0     120   354    0       163     1        0    0     1     0   \n",
       "..   ...  ...     ...   ...  ...       ...   ...      ...  ...   ...   ...   \n",
       "298   57    0     140   241    0       123     1        0    0     1     0   \n",
       "299   45    1     110   264    0       132     0        1    0     0     0   \n",
       "300   68    1     144   193    0       141     0        3    2     1     0   \n",
       "301   57    1     130   131    0       115     1        1    1     1     0   \n",
       "302   57    0     130   236    0       174     0        0    1     0     0   \n",
       "\n",
       "     cp_2  cp_3  slp_0  slp_1  slp_2  thall_0  thall_1  thall_2  thall_3  \\\n",
       "0       0     0      0      0      0        0        0        0        0   \n",
       "1       1     0      0      0      0        0        0        1        0   \n",
       "2       0     0      0      0      1        0        0        1        0   \n",
       "3       0     0      0      0      1        0        0        1        0   \n",
       "4       0     0      0      0      1        0        0        1        0   \n",
       "..    ...   ...    ...    ...    ...      ...      ...      ...      ...   \n",
       "298     0     0      0      1      0        0        0        0        1   \n",
       "299     0     0      0      1      0        0        0        0        1   \n",
       "300     0     0      0      1      0        0        0        0        1   \n",
       "301     0     0      0      1      0        0        0        0        1   \n",
       "302     0     0      0      1      0        0        0        1        0   \n",
       "\n",
       "     restecg_0  restecg_1  restecg_2  \n",
       "0            1          0          0  \n",
       "1            0          1          0  \n",
       "2            1          0          0  \n",
       "3            0          1          0  \n",
       "4            0          1          0  \n",
       "..         ...        ...        ...  \n",
       "298          0          1          0  \n",
       "299          0          1          0  \n",
       "300          0          1          0  \n",
       "301          0          1          0  \n",
       "302          1          0          0  \n",
       "\n",
       "[302 rows x 23 columns]"
      ]
     },
     "execution_count": 33,
     "metadata": {},
     "output_type": "execute_result"
    }
   ],
   "source": [
    "x"
   ]
  },
  {
   "cell_type": "code",
   "execution_count": 34,
   "id": "55790e63",
   "metadata": {
    "execution": {
     "iopub.execute_input": "2024-03-17T11:22:05.371801Z",
     "iopub.status.busy": "2024-03-17T11:22:05.371389Z",
     "iopub.status.idle": "2024-03-17T11:22:05.379234Z",
     "shell.execute_reply": "2024-03-17T11:22:05.378317Z"
    },
    "papermill": {
     "duration": 0.043978,
     "end_time": "2024-03-17T11:22:05.381602",
     "exception": false,
     "start_time": "2024-03-17T11:22:05.337624",
     "status": "completed"
    },
    "tags": []
   },
   "outputs": [
    {
     "data": {
      "text/plain": [
       "0      1\n",
       "1      1\n",
       "2      1\n",
       "3      1\n",
       "4      1\n",
       "      ..\n",
       "298    0\n",
       "299    0\n",
       "300    0\n",
       "301    0\n",
       "302    0\n",
       "Name: output, Length: 302, dtype: int64"
      ]
     },
     "execution_count": 34,
     "metadata": {},
     "output_type": "execute_result"
    }
   ],
   "source": [
    "y"
   ]
  },
  {
   "cell_type": "code",
   "execution_count": 35,
   "id": "6d71524e",
   "metadata": {
    "execution": {
     "iopub.execute_input": "2024-03-17T11:22:05.449306Z",
     "iopub.status.busy": "2024-03-17T11:22:05.448899Z",
     "iopub.status.idle": "2024-03-17T11:22:05.455686Z",
     "shell.execute_reply": "2024-03-17T11:22:05.454461Z"
    },
    "papermill": {
     "duration": 0.043298,
     "end_time": "2024-03-17T11:22:05.457863",
     "exception": false,
     "start_time": "2024-03-17T11:22:05.414565",
     "status": "completed"
    },
    "tags": []
   },
   "outputs": [],
   "source": [
    "x_train, x_test, y_train, y_test = train_test_split(x,y, test_size = 0.2, random_state = 0)"
   ]
  },
  {
   "cell_type": "code",
   "execution_count": 36,
   "id": "684e61f2",
   "metadata": {
    "execution": {
     "iopub.execute_input": "2024-03-17T11:22:05.525159Z",
     "iopub.status.busy": "2024-03-17T11:22:05.524427Z",
     "iopub.status.idle": "2024-03-17T11:22:05.550984Z",
     "shell.execute_reply": "2024-03-17T11:22:05.549697Z"
    },
    "papermill": {
     "duration": 0.063343,
     "end_time": "2024-03-17T11:22:05.553783",
     "exception": false,
     "start_time": "2024-03-17T11:22:05.490440",
     "status": "completed"
    },
    "tags": []
   },
   "outputs": [],
   "source": [
    "model1 = make_pipeline(MinMaxScaler(),\n",
    "                      LogisticRegression())\n",
    "\n",
    "model1.fit(x_train, y_train)\n",
    "model1_pred = model1.predict(x_test)"
   ]
  },
  {
   "cell_type": "code",
   "execution_count": 37,
   "id": "47eeec3d",
   "metadata": {
    "execution": {
     "iopub.execute_input": "2024-03-17T11:22:05.622087Z",
     "iopub.status.busy": "2024-03-17T11:22:05.621660Z",
     "iopub.status.idle": "2024-03-17T11:22:05.633759Z",
     "shell.execute_reply": "2024-03-17T11:22:05.632620Z"
    },
    "papermill": {
     "duration": 0.049619,
     "end_time": "2024-03-17T11:22:05.636092",
     "exception": false,
     "start_time": "2024-03-17T11:22:05.586473",
     "status": "completed"
    },
    "tags": []
   },
   "outputs": [
    {
     "data": {
      "text/plain": [
       "0.8852459016393442"
      ]
     },
     "execution_count": 37,
     "metadata": {},
     "output_type": "execute_result"
    }
   ],
   "source": [
    "model1.score(x_test, y_test)"
   ]
  },
  {
   "cell_type": "code",
   "execution_count": 38,
   "id": "13aa74de",
   "metadata": {
    "execution": {
     "iopub.execute_input": "2024-03-17T11:22:05.703990Z",
     "iopub.status.busy": "2024-03-17T11:22:05.703218Z",
     "iopub.status.idle": "2024-03-17T11:22:05.711986Z",
     "shell.execute_reply": "2024-03-17T11:22:05.710855Z"
    },
    "papermill": {
     "duration": 0.045416,
     "end_time": "2024-03-17T11:22:05.714240",
     "exception": false,
     "start_time": "2024-03-17T11:22:05.668824",
     "status": "completed"
    },
    "tags": []
   },
   "outputs": [
    {
     "data": {
      "text/plain": [
       "array([[24,  3],\n",
       "       [ 4, 30]])"
      ]
     },
     "execution_count": 38,
     "metadata": {},
     "output_type": "execute_result"
    }
   ],
   "source": [
    "CM1  = confusion_matrix(y_test, model1_pred)\n",
    "CM1"
   ]
  },
  {
   "cell_type": "code",
   "execution_count": 39,
   "id": "01aad286",
   "metadata": {
    "execution": {
     "iopub.execute_input": "2024-03-17T11:22:05.781700Z",
     "iopub.status.busy": "2024-03-17T11:22:05.781285Z",
     "iopub.status.idle": "2024-03-17T11:22:06.016261Z",
     "shell.execute_reply": "2024-03-17T11:22:06.014956Z"
    },
    "papermill": {
     "duration": 0.271491,
     "end_time": "2024-03-17T11:22:06.018564",
     "exception": false,
     "start_time": "2024-03-17T11:22:05.747073",
     "status": "completed"
    },
    "tags": []
   },
   "outputs": [
    {
     "data": {
      "text/plain": [
       "<Axes: >"
      ]
     },
     "execution_count": 39,
     "metadata": {},
     "output_type": "execute_result"
    },
    {
     "data": {
      "image/png": "[encoded data removed]",
      "text/plain": [
       "<Figure size 640x480 with 2 Axes>"
      ]
     },
     "metadata": {},
     "output_type": "display_data"
    }
   ],
   "source": [
    "sns.heatmap(CM1, annot=True)"
   ]
  },
  {
   "cell_type": "code",
   "execution_count": 40,
   "id": "0ff48f02",
   "metadata": {
    "execution": {
     "iopub.execute_input": "2024-03-17T11:22:06.089280Z",
     "iopub.status.busy": "2024-03-17T11:22:06.088840Z",
     "iopub.status.idle": "2024-03-17T11:22:06.104435Z",
     "shell.execute_reply": "2024-03-17T11:22:06.103373Z"
    },
    "papermill": {
     "duration": 0.05327,
     "end_time": "2024-03-17T11:22:06.107106",
     "exception": false,
     "start_time": "2024-03-17T11:22:06.053836",
     "status": "completed"
    },
    "tags": []
   },
   "outputs": [
    {
     "name": "stdout",
     "output_type": "stream",
     "text": [
      "              precision    recall  f1-score   support\n",
      "\n",
      "           0       0.86      0.89      0.87        27\n",
      "           1       0.91      0.88      0.90        34\n",
      "\n",
      "    accuracy                           0.89        61\n",
      "   macro avg       0.88      0.89      0.88        61\n",
      "weighted avg       0.89      0.89      0.89        61\n",
      "\n"
     ]
    }
   ],
   "source": [
    "print(classification_report(y_test, model1_pred))"
   ]
  },
  {
   "cell_type": "code",
   "execution_count": 41,
   "id": "e741b3ed",
   "metadata": {
    "execution": {
     "iopub.execute_input": "2024-03-17T11:22:06.177098Z",
     "iopub.status.busy": "2024-03-17T11:22:06.176299Z",
     "iopub.status.idle": "2024-03-17T11:22:06.192488Z",
     "shell.execute_reply": "2024-03-17T11:22:06.191091Z"
    },
    "papermill": {
     "duration": 0.054341,
     "end_time": "2024-03-17T11:22:06.195167",
     "exception": false,
     "start_time": "2024-03-17T11:22:06.140826",
     "status": "completed"
    },
    "tags": []
   },
   "outputs": [],
   "source": [
    "Model2 = make_pipeline(StandardScaler(),\n",
    "                      DecisionTreeClassifier())\n",
    "\n",
    "Model2.fit(x_train, y_train)\n",
    "Model2_pred = Model2.predict(x_test)"
   ]
  },
  {
   "cell_type": "code",
   "execution_count": 42,
   "id": "0f3642a2",
   "metadata": {
    "execution": {
     "iopub.execute_input": "2024-03-17T11:22:06.264490Z",
     "iopub.status.busy": "2024-03-17T11:22:06.264061Z",
     "iopub.status.idle": "2024-03-17T11:22:06.275283Z",
     "shell.execute_reply": "2024-03-17T11:22:06.273931Z"
    },
    "papermill": {
     "duration": 0.048547,
     "end_time": "2024-03-17T11:22:06.277602",
     "exception": false,
     "start_time": "2024-03-17T11:22:06.229055",
     "status": "completed"
    },
    "tags": []
   },
   "outputs": [
    {
     "data": {
      "text/plain": [
       "0.7540983606557377"
      ]
     },
     "execution_count": 42,
     "metadata": {},
     "output_type": "execute_result"
    }
   ],
   "source": [
    "Model2.score(x_test, y_test)"
   ]
  },
  {
   "cell_type": "code",
   "execution_count": 43,
   "id": "d8862681",
   "metadata": {
    "execution": {
     "iopub.execute_input": "2024-03-17T11:22:06.348338Z",
     "iopub.status.busy": "2024-03-17T11:22:06.347611Z",
     "iopub.status.idle": "2024-03-17T11:22:06.354909Z",
     "shell.execute_reply": "2024-03-17T11:22:06.353934Z"
    },
    "papermill": {
     "duration": 0.045026,
     "end_time": "2024-03-17T11:22:06.357067",
     "exception": false,
     "start_time": "2024-03-17T11:22:06.312041",
     "status": "completed"
    },
    "tags": []
   },
   "outputs": [
    {
     "data": {
      "text/plain": [
       "array([[23,  4],\n",
       "       [11, 23]])"
      ]
     },
     "execution_count": 43,
     "metadata": {},
     "output_type": "execute_result"
    }
   ],
   "source": [
    "CM2 = confusion_matrix(y_test, Model2_pred)\n",
    "CM2"
   ]
  },
  {
   "cell_type": "code",
   "execution_count": 44,
   "id": "bae3175a",
   "metadata": {
    "execution": {
     "iopub.execute_input": "2024-03-17T11:22:06.427635Z",
     "iopub.status.busy": "2024-03-17T11:22:06.426978Z",
     "iopub.status.idle": "2024-03-17T11:22:06.676839Z",
     "shell.execute_reply": "2024-03-17T11:22:06.675696Z"
    },
    "papermill": {
     "duration": 0.28763,
     "end_time": "2024-03-17T11:22:06.679217",
     "exception": false,
     "start_time": "2024-03-17T11:22:06.391587",
     "status": "completed"
    },
    "tags": []
   },
   "outputs": [
    {
     "data": {
      "text/plain": [
       "<Axes: >"
      ]
     },
     "execution_count": 44,
     "metadata": {},
     "output_type": "execute_result"
    },
    {
     "data": {
      "image/png": "[encoded data removed]",
      "text/plain": [
       "<Figure size 640x480 with 2 Axes>"
      ]
     },
     "metadata": {},
     "output_type": "display_data"
    }
   ],
   "source": [
    "sns.heatmap(CM2, annot = True)"
   ]
  },
  {
   "cell_type": "code",
   "execution_count": 45,
   "id": "dd6d67ff",
   "metadata": {
    "execution": {
     "iopub.execute_input": "2024-03-17T11:22:06.750008Z",
     "iopub.status.busy": "2024-03-17T11:22:06.749281Z",
     "iopub.status.idle": "2024-03-17T11:22:06.763005Z",
     "shell.execute_reply": "2024-03-17T11:22:06.761639Z"
    },
    "papermill": {
     "duration": 0.05186,
     "end_time": "2024-03-17T11:22:06.765197",
     "exception": false,
     "start_time": "2024-03-17T11:22:06.713337",
     "status": "completed"
    },
    "tags": []
   },
   "outputs": [
    {
     "name": "stdout",
     "output_type": "stream",
     "text": [
      "              precision    recall  f1-score   support\n",
      "\n",
      "           0       0.68      0.85      0.75        27\n",
      "           1       0.85      0.68      0.75        34\n",
      "\n",
      "    accuracy                           0.75        61\n",
      "   macro avg       0.76      0.76      0.75        61\n",
      "weighted avg       0.77      0.75      0.75        61\n",
      "\n"
     ]
    }
   ],
   "source": [
    "print(classification_report(y_test, Model2_pred))"
   ]
  },
  {
   "cell_type": "code",
   "execution_count": 46,
   "id": "e8e5a122",
   "metadata": {
    "execution": {
     "iopub.execute_input": "2024-03-17T11:22:06.836091Z",
     "iopub.status.busy": "2024-03-17T11:22:06.834935Z",
     "iopub.status.idle": "2024-03-17T11:22:07.103739Z",
     "shell.execute_reply": "2024-03-17T11:22:07.102495Z"
    },
    "papermill": {
     "duration": 0.307006,
     "end_time": "2024-03-17T11:22:07.106510",
     "exception": false,
     "start_time": "2024-03-17T11:22:06.799504",
     "status": "completed"
    },
    "tags": []
   },
   "outputs": [],
   "source": [
    "Model3 = make_pipeline(StandardScaler(),\n",
    "                      RandomForestClassifier())\n",
    "\n",
    "Model3.fit(x_train, y_train)\n",
    "Model3_pred = Model3.predict(x_test)"
   ]
  },
  {
   "cell_type": "code",
   "execution_count": 47,
   "id": "5f59e8b9",
   "metadata": {
    "execution": {
     "iopub.execute_input": "2024-03-17T11:22:07.178841Z",
     "iopub.status.busy": "2024-03-17T11:22:07.178440Z",
     "iopub.status.idle": "2024-03-17T11:22:07.199167Z",
     "shell.execute_reply": "2024-03-17T11:22:07.197924Z"
    },
    "papermill": {
     "duration": 0.059173,
     "end_time": "2024-03-17T11:22:07.201513",
     "exception": false,
     "start_time": "2024-03-17T11:22:07.142340",
     "status": "completed"
    },
    "tags": []
   },
   "outputs": [
    {
     "data": {
      "text/plain": [
       "0.8524590163934426"
      ]
     },
     "execution_count": 47,
     "metadata": {},
     "output_type": "execute_result"
    }
   ],
   "source": [
    "Model3.score(x_test, y_test)"
   ]
  },
  {
   "cell_type": "code",
   "execution_count": 48,
   "id": "a2ad6bff",
   "metadata": {
    "execution": {
     "iopub.execute_input": "2024-03-17T11:22:07.273175Z",
     "iopub.status.busy": "2024-03-17T11:22:07.271833Z",
     "iopub.status.idle": "2024-03-17T11:22:07.352373Z",
     "shell.execute_reply": "2024-03-17T11:22:07.351294Z"
    },
    "papermill": {
     "duration": 0.119324,
     "end_time": "2024-03-17T11:22:07.355053",
     "exception": false,
     "start_time": "2024-03-17T11:22:07.235729",
     "status": "completed"
    },
    "tags": []
   },
   "outputs": [],
   "source": [
    "Model4 = make_pipeline(StandardScaler(),\n",
    "                      KNeighborsClassifier())\n",
    "\n",
    "Model4.fit(x_train, y_train)\n",
    "Model4_pred = Model4.predict(x_test)"
   ]
  },
  {
   "cell_type": "code",
   "execution_count": 49,
   "id": "8234a468",
   "metadata": {
    "execution": {
     "iopub.execute_input": "2024-03-17T11:22:07.426895Z",
     "iopub.status.busy": "2024-03-17T11:22:07.426481Z",
     "iopub.status.idle": "2024-03-17T11:22:07.445129Z",
     "shell.execute_reply": "2024-03-17T11:22:07.443980Z"
    },
    "papermill": {
     "duration": 0.056734,
     "end_time": "2024-03-17T11:22:07.447374",
     "exception": false,
     "start_time": "2024-03-17T11:22:07.390640",
     "status": "completed"
    },
    "tags": []
   },
   "outputs": [
    {
     "data": {
      "text/plain": [
       "0.8688524590163934"
      ]
     },
     "execution_count": 49,
     "metadata": {},
     "output_type": "execute_result"
    }
   ],
   "source": [
    "Model4.score(x_test, y_test)"
   ]
  },
  {
   "cell_type": "code",
   "execution_count": null,
   "id": "8b932a15",
   "metadata": {
    "papermill": {
     "duration": 0.034094,
     "end_time": "2024-03-17T11:22:07.516897",
     "exception": false,
     "start_time": "2024-03-17T11:22:07.482803",
     "status": "completed"
    },
    "tags": []
   },
   "outputs": [],
   "source": []
  }
 ],
 "metadata": {
  "kaggle": {
   "accelerator": "none",
   "dataSources": [
    {
     "datasetId": 1226038,
     "sourceId": 2047221,
     "sourceType": "datasetVersion"
    },
    {
     "datasetId": 2828393,
     "sourceId": 4877710,
     "sourceType": "datasetVersion"
    }
   ],
   "dockerImageVersionId": 30646,
   "isGpuEnabled": false,
   "isInternetEnabled": true,
   "language": "python",
   "sourceType": "notebook"
  },
  "kernelspec": {
   "display_name": "Python 3",
   "language": "python",
   "name": "python3"
  },
  "language_info": {
   "codemirror_mode": {
    "name": "ipython",
    "version": 3
   },
   "file_extension": ".py",
   "mimetype": "text/x-python",
   "name": "python",
   "nbconvert_exporter": "python",
   "pygments_lexer": "ipython3",
   "version": "3.10.13"
  },
  "papermill": {
   "default_parameters": {},
   "duration": 21.555884,
   "end_time": "2024-03-17T11:22:08.374121",
   "environment_variables": {},
   "exception": null,
   "input_path": "__notebook__.ipynb",
   "output_path": "__notebook__.ipynb",
   "parameters": {},
   "start_time": "2024-03-17T11:21:46.818237",
   "version": "2.5.0"
  }
 },
 "nbformat": 4,
 "nbformat_minor": 5
}
